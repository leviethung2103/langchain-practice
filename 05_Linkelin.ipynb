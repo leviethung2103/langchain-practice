{
 "cells": [
  {
   "cell_type": "markdown",
   "id": "d01ad29c-d801-449b-a403-918588cbd334",
   "metadata": {},
   "source": [
    "## Prompt \n",
    "\n",
    "A prompt for a language model is a set of instructions or input provided by a user to guide the model's response, helping it understand the context and generate relevant and coherent language-based output, such as answering questions, completing sentences, or engaging in a conversation.\n",
    "\n",
    "## LLMChain\n",
    "An LLMChain is a simple chain that adds some functionality around language models. It is used widely throughout LangChain, including in other chains and agents.\n",
    "\n",
    "\n",
    "An LLMChain consists of a PromptTemplate and a language model (either an LLM or chat model). It formats the prompt template using the input key values provided (and also memory key values, if available), passes the formatted string to LLM and returns the LLM output.\n",
    "\n",
    "\n"
   ]
  },
  {
   "cell_type": "code",
   "execution_count": 11,
   "id": "949f260e-4d4b-41f4-92f8-ad1bc56fb810",
   "metadata": {},
   "outputs": [],
   "source": [
    "from langchain_core.prompts.prompt import PromptTemplate\n",
    "from langchain.chat_models import ChatOpenAI\n",
    "from langchain.chains import LLMChain\n",
    "\n",
    "summary_template = \"\"\"\n",
    "given the information {information} about a person I want you to create:\n",
    "1. A short summary\n",
    "2. two interesting facts about them\n",
    "\"\"\"\n",
    "\n",
    "summary_prompt_template = PromptTemplate(\n",
    "    input_variale = ['information'], template=summary_template\n",
    ")"
   ]
  },
  {
   "cell_type": "code",
   "execution_count": 13,
   "id": "791b86d6-e530-47d6-b1f0-cb9170d82ed5",
   "metadata": {},
   "outputs": [
    {
     "name": "stdin",
     "output_type": "stream",
     "text": [
      "Enter your OpenAI API key:  ········\n"
     ]
    }
   ],
   "source": [
    "import getpass\n",
    "import os\n",
    "\n",
    "os.environ[\"OPENAI_API_KEY\"] = getpass.getpass(\"Enter your OpenAI API key: \")"
   ]
  },
  {
   "cell_type": "code",
   "execution_count": 14,
   "id": "7275c3b1-6f6c-43b6-a2c1-8003ba849625",
   "metadata": {},
   "outputs": [],
   "source": [
    "llm = ChatOpenAI(temperature=0, model_name = 'gpt-3.5-turbo')"
   ]
  },
  {
   "cell_type": "code",
   "execution_count": 25,
   "id": "d2dbf635-3ff1-449a-987e-f6360e247ac5",
   "metadata": {},
   "outputs": [],
   "source": [
    "chain = LLMChain(llm=llm, prompt=summary_prompt_template)\n",
    "\n",
    "import requests\n",
    "\n",
    "def scrape_linkedin_profile(url, mock=True):\n",
    "    if mock:\n",
    "        data = \"\"\"\n",
    "        Hello! My name is Tran Mai Linh and I'm 30 years old. I live in Da Nang city in Vietnam, which is a beautiful coastal city known for its beaches and historic sites.\n",
    "\n",
    "        I work as an AI Research Scientist at a leading tech company in Da Nang. I've been fascinated by artificial intelligence since I was in university, and I'm really excited to be contributing to the development of new AI models and applications. Some of my main areas of focus include natural language processing, computer vision, and reinforcement learning.\n",
    "        \n",
    "        In my free time, I enjoy a variety of hobbies. I'm an avid reader and I particularly love science fiction novels. I also like to go hiking in the nearby mountains and forests around Da Nang - the scenery is simply breathtaking. Additionally, I play the piano and have been taking lessons for the past 10 years. It's a great creative outlet for me.\n",
    "        \n",
    "        I'm really passionate about the potential of AI to help solve major challenges facing the world. I'm always eager to learn more and to collaborate with others in the field. Please let me know if you have any other questions!\n",
    "        \"\"\"\n",
    "        return data\n",
    "        \n",
    "    \n",
    "    response = requests.get(url, timeout=10)\n",
    "    if response.status_code == 200:\n",
    "        print(\"OK\")\n",
    "    print(response)\n",
    "    data = response.json()\n",
    "    \n",
    "    return data"
   ]
  },
  {
   "cell_type": "code",
   "execution_count": 26,
   "id": "b5870b3b-fe75-4ed5-a1a7-049ce69b1db8",
   "metadata": {
    "scrolled": true
   },
   "outputs": [
    {
     "data": {
      "text/plain": [
       "\"\\n        Hello! My name is Tran Mai Linh and I'm 30 years old. I live in Da Nang city in Vietnam, which is a beautiful coastal city known for its beaches and historic sites.\\n\\n        I work as an AI Research Scientist at a leading tech company in Da Nang. I've been fascinated by artificial intelligence since I was in university, and I'm really excited to be contributing to the development of new AI models and applications. Some of my main areas of focus include natural language processing, computer vision, and reinforcement learning.\\n        \\n        In my free time, I enjoy a variety of hobbies. I'm an avid reader and I particularly love science fiction novels. I also like to go hiking in the nearby mountains and forests around Da Nang - the scenery is simply breathtaking. Additionally, I play the piano and have been taking lessons for the past 10 years. It's a great creative outlet for me.\\n        \\n        I'm really passionate about the potential of AI to help solve major challenges facing the world. I'm always eager to learn more and to collaborate with others in the field. Please let me know if you have any other questions!\\n        \""
      ]
     },
     "execution_count": 26,
     "metadata": {},
     "output_type": "execute_result"
    }
   ],
   "source": [
    "scrape_linkedin_profile(\")"
   ]
  },
  {
   "cell_type": "code",
   "execution_count": 30,
   "id": "d6759f9b-258b-42f7-940e-dda27c8e1b60",
   "metadata": {},
   "outputs": [],
   "source": [
    "url = \"https://www.linkedin.com/in/nikkisiapno/\" \n",
    "res = chain.invoke(input={\"information\": scrape_linkedin_profile(url)})"
   ]
  },
  {
   "cell_type": "code",
   "execution_count": 34,
   "id": "d6f978ac-57b3-4739-999d-b255a06a7380",
   "metadata": {},
   "outputs": [
    {
     "data": {
      "text/plain": [
       "{'information': \"\\n        Hello! My name is Tran Mai Linh and I'm 30 years old. I live in Da Nang city in Vietnam, which is a beautiful coastal city known for its beaches and historic sites.\\n\\n        I work as an AI Research Scientist at a leading tech company in Da Nang. I've been fascinated by artificial intelligence since I was in university, and I'm really excited to be contributing to the development of new AI models and applications. Some of my main areas of focus include natural language processing, computer vision, and reinforcement learning.\\n        \\n        In my free time, I enjoy a variety of hobbies. I'm an avid reader and I particularly love science fiction novels. I also like to go hiking in the nearby mountains and forests around Da Nang - the scenery is simply breathtaking. Additionally, I play the piano and have been taking lessons for the past 10 years. It's a great creative outlet for me.\\n        \\n        I'm really passionate about the potential of AI to help solve major challenges facing the world. I'm always eager to learn more and to collaborate with others in the field. Please let me know if you have any other questions!\\n        \",\n",
       " 'text': '1. Tran Mai Linh is a 30-year-old AI Research Scientist living in Da Nang, Vietnam. She is passionate about artificial intelligence and enjoys reading science fiction novels, hiking, and playing the piano in her free time.\\n\\n2. Two interesting facts about Tran Mai Linh:\\n- She has been playing the piano for 10 years and finds it to be a great creative outlet.\\n- Tran Mai Linh is focused on developing new AI models and applications in areas such as natural language processing, computer vision, and reinforcement learning.'}"
      ]
     },
     "execution_count": 34,
     "metadata": {},
     "output_type": "execute_result"
    }
   ],
   "source": [
    "res"
   ]
  },
  {
   "cell_type": "code",
   "execution_count": 36,
   "id": "e41ecf15-0a0e-4d38-b952-5f2f9559c719",
   "metadata": {},
   "outputs": [
    {
     "data": {
      "text/plain": [
       "\"\\n        Hello! My name is Tran Mai Linh and I'm 30 years old. I live in Da Nang city in Vietnam, which is a beautiful coastal city known for its beaches and historic sites.\\n\\n        I work as an AI Research Scientist at a leading tech company in Da Nang. I've been fascinated by artificial intelligence since I was in university, and I'm really excited to be contributing to the development of new AI models and applications. Some of my main areas of focus include natural language processing, computer vision, and reinforcement learning.\\n        \\n        In my free time, I enjoy a variety of hobbies. I'm an avid reader and I particularly love science fiction novels. I also like to go hiking in the nearby mountains and forests around Da Nang - the scenery is simply breathtaking. Additionally, I play the piano and have been taking lessons for the past 10 years. It's a great creative outlet for me.\\n        \\n        I'm really passionate about the potential of AI to help solve major challenges facing the world. I'm always eager to learn more and to collaborate with others in the field. Please let me know if you have any other questions!\\n        \""
      ]
     },
     "execution_count": 36,
     "metadata": {},
     "output_type": "execute_result"
    }
   ],
   "source": [
    "res['information']"
   ]
  },
  {
   "cell_type": "code",
   "execution_count": 38,
   "id": "772b2b43-60fd-475f-8b89-989e51a93d5b",
   "metadata": {},
   "outputs": [
    {
     "name": "stdout",
     "output_type": "stream",
     "text": [
      "1. Tran Mai Linh is a 30-year-old AI Research Scientist living in Da Nang, Vietnam. She is passionate about artificial intelligence and enjoys reading science fiction novels, hiking, and playing the piano in her free time.\n",
      "\n",
      "2. Two interesting facts about Tran Mai Linh:\n",
      "- She has been playing the piano for 10 years and finds it to be a great creative outlet.\n",
      "- Tran Mai Linh is focused on developing new AI models and applications in areas such as natural language processing, computer vision, and reinforcement learning.\n"
     ]
    }
   ],
   "source": [
    "print(res['text'])"
   ]
  },
  {
   "cell_type": "code",
   "execution_count": null,
   "id": "2c799572-fd0f-4cc4-bcab-b3420f06ab2c",
   "metadata": {},
   "outputs": [],
   "source": []
  }
 ],
 "metadata": {
  "kernelspec": {
   "display_name": "Python 3 (ipykernel)",
   "language": "python",
   "name": "python3"
  },
  "language_info": {
   "codemirror_mode": {
    "name": "ipython",
    "version": 3
   },
   "file_extension": ".py",
   "mimetype": "text/x-python",
   "name": "python",
   "nbconvert_exporter": "python",
   "pygments_lexer": "ipython3",
   "version": "3.10.13"
  }
 },
 "nbformat": 4,
 "nbformat_minor": 5
}
