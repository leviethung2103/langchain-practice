{
 "cells": [
  {
   "cell_type": "markdown",
   "id": "9c558adf-85d9-453b-9642-a870be9e9952",
   "metadata": {},
   "source": [
    "## Lang Chain Streaming ChatOpenAI\n",
    "\n",
    "1. Set the streaming=True\n",
    "2. Add the StreamingStdOutCallbackHandler() into ChatOpenAI\n",
    "\n",
    "Learn more about the invoke method\n",
    "\n",
    "messages: list, string or PromptValue"
   ]
  },
  {
   "cell_type": "markdown",
   "id": "d6b2aabc-3630-41a3-add6-929b05cd0981",
   "metadata": {},
   "source": [
    "Use HumanMessage"
   ]
  },
  {
   "cell_type": "code",
   "execution_count": null,
   "id": "e8d2c06e-20af-4875-8677-84c1ac337dca",
   "metadata": {},
   "outputs": [],
   "source": [
    "from dotenv import load_dotenv\n",
    "from langchain.chat_models import ChatOpenAI\n",
    "from langchain.schema import HumanMessage\n",
    "from langchain.callbacks.streaming_stdout import StreamingStdOutCallbackHandler\n",
    "from langchain_core.messages import HumanMessage, SystemMessage\n",
    "\n",
    "load_dotenv()\n",
    "\n",
    "chat = ChatOpenAI(\n",
    "    streaming=True, callbacks=[StreamingStdOutCallbackHandler()], temperature=0\n",
    ")\n",
    "\n",
    "messages = [HumanMessage(content=\"Tell a long story\")]\n",
    "\n",
    "print(chat.invoke(messages))"
   ]
  },
  {
   "cell_type": "markdown",
   "id": "415213aa-71c2-4dff-9e89-e02b90a204a6",
   "metadata": {},
   "source": [
    "Use SystemMessage and HumanMessage"
   ]
  },
  {
   "cell_type": "code",
   "execution_count": 4,
   "id": "28a06522-3302-4072-aac0-7708f2d08b4d",
   "metadata": {},
   "outputs": [
    {
     "name": "stdout",
     "output_type": "stream",
     "text": [
      "Hello! My name is Bob. How can I assist you today?content='Hello! My name is Bob. How can I assist you today?' response_metadata={'finish_reason': 'stop'} id='run-32269d74-fd28-4ad2-a956-ba9cff36ac6f-0'\n"
     ]
    }
   ],
   "source": [
    "from dotenv import load_dotenv\n",
    "from langchain.chat_models import ChatOpenAI\n",
    "from langchain.schema import HumanMessage\n",
    "from langchain.callbacks.streaming_stdout import StreamingStdOutCallbackHandler\n",
    "from langchain_core.messages import HumanMessage, SystemMessage\n",
    "\n",
    "load_dotenv()\n",
    "\n",
    "chat = ChatOpenAI(\n",
    "    streaming=True, callbacks=[StreamingStdOutCallbackHandler()], temperature=0\n",
    ")\n",
    "\n",
    "messages = [SystemMessage(content=\"You are a helpful assistant! Your name is Bob.\"), HumanMessage(content=\"What is your name?\")]\n",
    "\n",
    "print(chat.invoke(messages))"
   ]
  },
  {
   "cell_type": "markdown",
   "id": "6af3b84b-d063-462d-b9ae-e9de86402e13",
   "metadata": {},
   "source": [
    "Use directly the string"
   ]
  },
  {
   "cell_type": "code",
   "execution_count": 5,
   "id": "b9422edf-fade-4d41-9223-a65efb8fba66",
   "metadata": {},
   "outputs": [
    {
     "name": "stdout",
     "output_type": "stream",
     "text": [
      "Hello! How can I assist you today?content='Hello! How can I assist you today?' response_metadata={'finish_reason': 'stop'} id='run-cebdd7c1-3206-4f4c-a803-d23442d1572b-0'\n"
     ]
    }
   ],
   "source": [
    "from dotenv import load_dotenv\n",
    "from langchain.chat_models import ChatOpenAI\n",
    "from langchain.schema import HumanMessage\n",
    "from langchain.callbacks.streaming_stdout import StreamingStdOutCallbackHandler\n",
    "\n",
    "load_dotenv()\n",
    "\n",
    "chat = ChatOpenAI(\n",
    "    streaming=True, callbacks=[StreamingStdOutCallbackHandler()], temperature=0\n",
    ")\n",
    "\n",
    "print(chat.invoke(\"hello there\"))"
   ]
  }
 ],
 "metadata": {
  "kernelspec": {
   "display_name": "Python 3 (ipykernel)",
   "language": "python",
   "name": "python3"
  },
  "language_info": {
   "codemirror_mode": {
    "name": "ipython",
    "version": 3
   },
   "file_extension": ".py",
   "mimetype": "text/x-python",
   "name": "python",
   "nbconvert_exporter": "python",
   "pygments_lexer": "ipython3",
   "version": "3.10.13"
  }
 },
 "nbformat": 4,
 "nbformat_minor": 5
}
