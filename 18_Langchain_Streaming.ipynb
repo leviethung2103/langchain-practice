{
 "cells": [
  {
   "cell_type": "markdown",
   "id": "9c558adf-85d9-453b-9642-a870be9e9952",
   "metadata": {},
   "source": [
    "## Lang Chain Streaming ChatOpenAI\n",
    "\n",
    "1. Set the streaming=True\n",
    "2. Add the StreamingStdOutCallbackHandler() into ChatOpenAI\n",
    "\n",
    "Learn more about the invoke method\n",
    "\n",
    "messages: list, string or PromptValue"
   ]
  },
  {
   "cell_type": "markdown",
   "id": "d6b2aabc-3630-41a3-add6-929b05cd0981",
   "metadata": {},
   "source": [
    "Use HumanMessage"
   ]
  },
  {
   "cell_type": "code",
   "execution_count": null,
   "id": "e8d2c06e-20af-4875-8677-84c1ac337dca",
   "metadata": {},
   "outputs": [],
   "source": [
    "from dotenv import load_dotenv\n",
    "from langchain.chat_models import ChatOpenAI\n",
    "from langchain.schema import HumanMessage\n",
    "from langchain.callbacks.streaming_stdout import StreamingStdOutCallbackHandler\n",
    "from langchain_core.messages import HumanMessage, SystemMessage\n",
    "\n",
    "load_dotenv()\n",
    "\n",
    "chat = ChatOpenAI(\n",
    "    streaming=True, callbacks=[StreamingStdOutCallbackHandler()], temperature=0\n",
    ")\n",
    "\n",
    "messages = [HumanMessage(content=\"Tell a long story\")]\n",
    "\n",
    "print(chat.invoke(messages))"
   ]
  },
  {
   "cell_type": "markdown",
   "id": "415213aa-71c2-4dff-9e89-e02b90a204a6",
   "metadata": {},
   "source": [
    "Use SystemMessage and HumanMessage"
   ]
  },
  {
   "cell_type": "code",
   "execution_count": 4,
   "id": "28a06522-3302-4072-aac0-7708f2d08b4d",
   "metadata": {},
   "outputs": [
    {
     "name": "stdout",
     "output_type": "stream",
     "text": [
      "Hello! My name is Bob. How can I assist you today?content='Hello! My name is Bob. How can I assist you today?' response_metadata={'finish_reason': 'stop'} id='run-32269d74-fd28-4ad2-a956-ba9cff36ac6f-0'\n"
     ]
    }
   ],
   "source": [
    "from dotenv import load_dotenv\n",
    "from langchain.chat_models import ChatOpenAI\n",
    "from langchain.schema import HumanMessage\n",
    "from langchain.callbacks.streaming_stdout import StreamingStdOutCallbackHandler\n",
    "from langchain_core.messages import HumanMessage, SystemMessage\n",
    "\n",
    "load_dotenv()\n",
    "\n",
    "chat = ChatOpenAI(\n",
    "    streaming=True, callbacks=[StreamingStdOutCallbackHandler()], temperature=0\n",
    ")\n",
    "\n",
    "messages = [SystemMessage(content=\"You are a helpful assistant! Your name is Bob.\"), HumanMessage(content=\"What is your name?\")]\n",
    "\n",
    "print(chat.invoke(messages))"
   ]
  },
  {
   "cell_type": "markdown",
   "id": "6af3b84b-d063-462d-b9ae-e9de86402e13",
   "metadata": {},
   "source": [
    "Use directly the string"
   ]
  },
  {
   "cell_type": "code",
   "execution_count": 5,
   "id": "b9422edf-fade-4d41-9223-a65efb8fba66",
   "metadata": {},
   "outputs": [
    {
     "name": "stdout",
     "output_type": "stream",
     "text": [
      "Hello! How can I assist you today?content='Hello! How can I assist you today?' response_metadata={'finish_reason': 'stop'} id='run-cebdd7c1-3206-4f4c-a803-d23442d1572b-0'\n"
     ]
    }
   ],
   "source": [
    "from dotenv import load_dotenv\n",
    "from langchain.chat_models import ChatOpenAI\n",
    "from langchain.schema import HumanMessage\n",
    "from langchain.callbacks.streaming_stdout import StreamingStdOutCallbackHandler\n",
    "\n",
    "load_dotenv()\n",
    "\n",
    "chat = ChatOpenAI(\n",
    "    streaming=True, callbacks=[StreamingStdOutCallbackHandler()], temperature=0\n",
    ")\n",
    "\n",
    "print(chat.invoke(\"hello there\"))"
   ]
  },
  {
   "cell_type": "markdown",
   "id": "30362078-ef4a-4537-85cf-9eac3fdd2bfa",
   "metadata": {},
   "source": [
    "## Test the stream chat\n",
    "\n",
    "\n",
    "The end parameter in the print() function specifies what should be printed at the end of the output.\n",
    "By default, print() adds a newline character \\n at the end of the output.\n",
    "By setting end='', we're telling print() to not add a newline character, but instead, just print the decoded chunk and keep the cursor on the same line.\n",
    "\n"
   ]
  },
  {
   "cell_type": "markdown",
   "id": "c292101f-5628-44a1-9d15-038be7e6a077",
   "metadata": {},
   "source": [
    "## Get the streaming from FastAPI"
   ]
  },
  {
   "cell_type": "code",
   "execution_count": 13,
   "id": "bd1872c3-fd6a-4949-9230-61fc26524ba2",
   "metadata": {},
   "outputs": [
    {
     "name": "stdout",
     "output_type": "stream",
     "text": [
      "Hello! I'm just a computer program, so I don't have feelings, but I'm here to help you. How can I assist you today?"
     ]
    }
   ],
   "source": [
    "import json\n",
    "import requests\n",
    "\n",
    "url = \"http://localhost:7000/stream_chat\"\n",
    "message = \"Hello, how are you?\"\n",
    "data = {\"content\": message}\n",
    "\n",
    "headers = {\"Content-type\": \"application/json\"}\n",
    "\n",
    "result = \"\"\n",
    "with requests.post(url, data=json.dumps(data), headers=headers, stream=True) as r:\n",
    "    for chunk in r.iter_content(1024):\n",
    "        try:\n",
    "            # Attempt to decode the chunk as text\n",
    "                print(chunk.decode('utf-8'), end='')\n",
    "        except UnicodeDecodeError:\n",
    "            # If the chunk is not text, print it as is\n",
    "            print(chunk, end='')"
   ]
  },
  {
   "cell_type": "markdown",
   "id": "b83c97de-824f-4aaa-84bd-ec3833238c4c",
   "metadata": {},
   "source": [
    "## Get the streaming from OpenAI \n",
    "\n",
    "- streaming = False\n",
    "- streaming = True"
   ]
  },
  {
   "cell_type": "code",
   "execution_count": 14,
   "id": "ffe2bf83-9606-4c53-8873-fe65ee75c8f6",
   "metadata": {},
   "outputs": [
    {
     "name": "stdout",
     "output_type": "stream",
     "text": [
      "{'id': 'chatcmpl-9o0wpMOZOr1eTGJBxw3PRVOctZI7C', 'object': 'chat.completion', 'created': 1721707071, 'model': 'gpt-4o-mini-2024-07-18', 'choices': [{'index': 0, 'message': {'role': 'assistant', 'content': 'In the realm of coding, with syntax so bright,  \\n\"Hello, World!\" emerges, a beacon of light.  \\nA simple beginning, where journeys commence,  \\nIn the language of logic, it leaps from the fence.  \\n\\nWith lines of pure magic, your script comes to life,  \\nA greeting familiar, cutting through strife.  \\nFrom Python to Java, in C# it gleams,  \\n\"Hello, World!\" whispers, igniting our dreams.  \\n\\nSo type it with fervor, let echoes resound,  \\nIn every new program, where wonders abound.  \\nFor each line of code holds a story untold,  \\nAnd \"Hello, World!\" is where genius unfolds.'}, 'logprobs': None, 'finish_reason': 'stop'}], 'usage': {'prompt_tokens': 29, 'completion_tokens': 142, 'total_tokens': 171}, 'system_fingerprint': 'fp_661538dc1f'}\n"
     ]
    }
   ],
   "source": [
    "import requests\n",
    "import os\n",
    "\n",
    "url = \"https://api.openai.com/v1/chat/completions\"\n",
    "headers = {\n",
    "    \"Content-Type\": \"application/json\",\n",
    "    \"Authorization\": f\"Bearer {os.environ['OPENAI_API_KEY']}\"\n",
    "}\n",
    "\n",
    "data = {\n",
    "    \"model\": \"gpt-4o-mini\",\n",
    "    \"messages\": [\n",
    "        {\n",
    "            \"role\": \"system\",\n",
    "            \"content\": \"You are a poetic assistant, skilled in explaining complex programming concepts with creative flair.\"\n",
    "        },\n",
    "        {\n",
    "            \"role\": \"user\",\n",
    "            # \"content\": \"Compose a poem that explains the concept of recursion in programming.\"\n",
    "            \"content\": \"hello world\"\n",
    "        }\n",
    "    ]\n",
    "}\n",
    "\n",
    "response = requests.post(url, headers=headers, json=data)\n",
    "print(response.json())"
   ]
  },
  {
   "cell_type": "code",
   "execution_count": 15,
   "id": "2008695e-4006-4c96-95ca-d349a3a39dc1",
   "metadata": {},
   "outputs": [
    {
     "name": "stdout",
     "output_type": "stream",
     "text": [
      "{'choices': [{'finish_reason': 'stop',\n",
      "              'index': 0,\n",
      "              'logprobs': None,\n",
      "              'message': {'content': 'In the realm of coding, with syntax so '\n",
      "                                     'bright,  \\n'\n",
      "                                     '\"Hello, World!\" emerges, a beacon of '\n",
      "                                     'light.  \\n'\n",
      "                                     'A simple beginning, where journeys '\n",
      "                                     'commence,  \\n'\n",
      "                                     'In the language of logic, it leaps from '\n",
      "                                     'the fence.  \\n'\n",
      "                                     '\\n'\n",
      "                                     'With lines of pure magic, your script '\n",
      "                                     'comes to life,  \\n'\n",
      "                                     'A greeting familiar, cutting through '\n",
      "                                     'strife.  \\n'\n",
      "                                     'From Python to Java, in C# it gleams,  \\n'\n",
      "                                     '\"Hello, World!\" whispers, igniting our '\n",
      "                                     'dreams.  \\n'\n",
      "                                     '\\n'\n",
      "                                     'So type it with fervor, let echoes '\n",
      "                                     'resound,  \\n'\n",
      "                                     'In every new program, where wonders '\n",
      "                                     'abound.  \\n'\n",
      "                                     'For each line of code holds a story '\n",
      "                                     'untold,  \\n'\n",
      "                                     'And \"Hello, World!\" is where genius '\n",
      "                                     'unfolds.',\n",
      "                          'role': 'assistant'}}],\n",
      " 'created': 1721707071,\n",
      " 'id': 'chatcmpl-9o0wpMOZOr1eTGJBxw3PRVOctZI7C',\n",
      " 'model': 'gpt-4o-mini-2024-07-18',\n",
      " 'object': 'chat.completion',\n",
      " 'system_fingerprint': 'fp_661538dc1f',\n",
      " 'usage': {'completion_tokens': 142, 'prompt_tokens': 29, 'total_tokens': 171}}\n"
     ]
    }
   ],
   "source": [
    "from pprint import pprint\n",
    "pprint(response.json())"
   ]
  },
  {
   "cell_type": "code",
   "execution_count": 17,
   "id": "11711400-0acd-4209-b552-9471f13cdbfd",
   "metadata": {},
   "outputs": [
    {
     "name": "stdout",
     "output_type": "stream",
     "text": [
      "In the realm of coding, with syntax so bright,  \n",
      "\"Hello, World!\" emerges, a beacon of light.  \n",
      "A simple beginning, where journeys commence,  \n",
      "In the language of logic, it leaps from the fence.  \n",
      "\n",
      "With lines of pure magic, your script comes to life,  \n",
      "A greeting familiar, cutting through strife.  \n",
      "From Python to Java, in C# it gleams,  \n",
      "\"Hello, World!\" whispers, igniting our dreams.  \n",
      "\n",
      "So type it with fervor, let echoes resound,  \n",
      "In every new program, where wonders abound.  \n",
      "For each line of code holds a story untold,  \n",
      "And \"Hello, World!\" is where genius unfolds.\n"
     ]
    }
   ],
   "source": [
    "print(response.json()['choices'][0]['message']['content'])"
   ]
  },
  {
   "cell_type": "markdown",
   "id": "c251caba-3c2c-4ed9-bc05-6516e096b979",
   "metadata": {},
   "source": [
    "### Use the streaming \n",
    "\n",
    "Reference: https://cookbook.openai.com/examples/how_to_stream_completions\n",
    "\n",
    "add the streaming=True in requests.post and \n",
    "\n",
    "Data of each chunk\n",
    "```\n",
    "{\n",
    "    \"id\": \"chatcmpl-9o1AJdo3soFyADAL1J5902XlT0PD6\",\n",
    "    \"object\": \"chat.completion.chunk\",\n",
    "    \"created\": 1721707907,\n",
    "    \"model\": \"gpt-4o-mini-2024-07-18\",\n",
    "    \"system_fingerprint\": \"fp_661538dc1f\",\n",
    "    \"choices\": [\n",
    "        {\n",
    "            \"index\": 0,\n",
    "            \"delta\": {\n",
    "                \"content\": \" learning\"\n",
    "            },\n",
    "            \"logprobs\": null,\n",
    "            \"finish_reason\": null\n",
    "        }\n",
    "    ]\n",
    "}\n",
    "```\n",
    "\n",
    "Tricky ở chỗ parse string từ vị trí thứ 6 sau đó chuyển thành JSON"
   ]
  },
  {
   "cell_type": "code",
   "execution_count": 57,
   "id": "a857b998-bb0c-447f-b214-e1f5ebfad801",
   "metadata": {},
   "outputs": [
    {
     "name": "stdout",
     "output_type": "stream",
     "text": [
      "In the realm of code, where logic takes flight,  \n",
      "\"Hello, World!\" emerges, a beacon of light.  \n",
      "A simple phrase, yet profound in its grace,  \n",
      "The first step in programming, a warm, friendly face.  \n",
      "\n",
      "With a flick of the keys, you summon the screen,  \n",
      "A message so basic, yet it feels like a dream.  \n",
      "In languages many, from Python to C,  \n",
      "This greeting unites us, you and me.  \n",
      "\n",
      "So let’s raise our voices, let our spirits unfurl,  \n",
      "In the vast world of coding, we say, “Hello, World!”  \n",
      "A journey begins with this humble decree,  \n",
      "In the heart of the code, we find unity."
     ]
    }
   ],
   "source": [
    "import requests\n",
    "import os\n",
    "import ast\n",
    "import json\n",
    "\n",
    "# String representation of a dictionary\n",
    "dict_str = \"{'name': 'John', 'age': 30, 'city': 'New York'}\"\n",
    "\n",
    "# Convert the string to a dictionary\n",
    "my_dict = (dict_str)\n",
    "\n",
    "\n",
    "url = \"https://api.openai.com/v1/chat/completions\"\n",
    "headers = {\n",
    "    \"Content-Type\": \"application/json\",\n",
    "    \"Authorization\": f\"Bearer {os.environ['OPENAI_API_KEY']}\"\n",
    "}\n",
    "\n",
    "data = {\n",
    "    \"model\": \"gpt-4o-mini\",\n",
    "    \"messages\": [\n",
    "        {\n",
    "            \"role\": \"system\",\n",
    "            \"content\": \"You are a poetic assistant, skilled in explaining complex programming concepts with creative flair.\"\n",
    "        },\n",
    "        {\n",
    "            \"role\": \"user\",\n",
    "            # \"content\": \"Compose a poem that explains the concept of recursion in programming.\"\n",
    "            \"content\": \"hello world\"\n",
    "        }\n",
    "    ],\n",
    "    \"stream\": True,     # remember to add this stream = True,\n",
    "    \"temperature\": 0\n",
    "}\n",
    "\n",
    "response = requests.post(url, json=data, headers=headers, stream=True)\n",
    "for chunk in response.iter_lines():\n",
    "    # check whether each line is non-empty\n",
    "    if chunk.decode() :\n",
    "      chunk = chunk.decode()\n",
    "      # decode each line as response data is in bytes\n",
    "      if len(chunk) > 12 and \"content\" in json.loads(chunk[6:])['choices'][0]['delta']:\n",
    "          # print(chunk)\n",
    "          # print(type(chunk))\n",
    "          partial_words = json.loads(chunk[6:])['choices'][0][\"delta\"][\"content\"]\n",
    "          print(partial_words, end=\"\")"
   ]
  },
  {
   "cell_type": "code",
   "execution_count": null,
   "id": "cb3d4d25-d5ea-4ed8-b440-cd101247f9c3",
   "metadata": {},
   "outputs": [],
   "source": []
  },
  {
   "cell_type": "code",
   "execution_count": null,
   "id": "d62d878a-d426-47c1-a061-f36271e96001",
   "metadata": {},
   "outputs": [],
   "source": []
  }
 ],
 "metadata": {
  "kernelspec": {
   "display_name": "Python 3 (ipykernel)",
   "language": "python",
   "name": "python3"
  },
  "language_info": {
   "codemirror_mode": {
    "name": "ipython",
    "version": 3
   },
   "file_extension": ".py",
   "mimetype": "text/x-python",
   "name": "python",
   "nbconvert_exporter": "python",
   "pygments_lexer": "ipython3",
   "version": "3.10.13"
  }
 },
 "nbformat": 4,
 "nbformat_minor": 5
}
