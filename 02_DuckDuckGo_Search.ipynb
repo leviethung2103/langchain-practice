{
 "cells": [
  {
   "cell_type": "markdown",
   "id": "ba1ae34a-b6e5-4e7f-a529-a1088eedaa21",
   "metadata": {},
   "source": [
    "## DuckDuck Go Search Tool"
   ]
  },
  {
   "cell_type": "code",
   "execution_count": 1,
   "id": "d931288e-75d0-450a-bcc4-384ef353cd13",
   "metadata": {},
   "outputs": [
    {
     "name": "stdout",
     "output_type": "stream",
     "text": [
      "\u001b[31mERROR: pip's dependency resolver does not currently take into account all the packages that are installed. This behaviour is the source of the following dependency conflicts.\n",
      "langchain-google-genai 0.0.8 requires langchain-core<0.2,>=0.1, but you have langchain-core 0.2.22 which is incompatible.\n",
      "langchain-openai 0.0.5 requires langchain-core<0.2,>=0.1.16, but you have langchain-core 0.2.22 which is incompatible.\u001b[0m\u001b[31m\n",
      "\u001b[0mNote: you may need to restart the kernel to use updated packages.\n"
     ]
    }
   ],
   "source": [
    "%pip install --upgrade --quiet  duckduckgo-search langchain-community"
   ]
  },
  {
   "cell_type": "code",
   "execution_count": 1,
   "id": "87053478-939f-49a2-93a4-b4f7b5848dff",
   "metadata": {},
   "outputs": [
    {
     "data": {
      "text/plain": [
       "\"Barack Obama—with his wife, Michelle—being sworn in as the 44th president of the United States, January 20, 2009. Key events in the life of Barack Obama. Barack Obama (born August 4, 1961, Honolulu, Hawaii, U.S.) is the 44th president of the United States (2009-17) and the first African American to hold the office. Michelle LaVaughn Robinson Obama (née Robinson; born January 17, 1964) is an American attorney and author who served as the first lady of the United States from 2009 to 2017, being married to Barack Obama, the 44th president of the United States.. Raised on the South Side of Chicago, Obama is a graduate of Princeton University and Harvard Law School.In her early legal career, she worked at ... Michelle and Barack Obama's daughter Malia Obama debuted a new name as her Hollywood career heats up, helping distance herself from the former president and first lady. By Sabba Rahbar Feb 21 ... An ESPN personality has no idea how to pronounce Barack Obama's first name on Sunday. Barack Obama was the president of the United States for eight years, but one prominent ESPN personality still ... Obama's personal charisma, stirring oratory, and his campaign promise to bring change to the established political system resonated with many Democrats, especially young and minority voters. On January 3, 2008, Obama won a surprise victory in the first major nominating contest, the Iowa caucus, over Sen. Hillary Clinton, who was the overwhelming favorite to win the nomination.\""
      ]
     },
     "execution_count": 1,
     "metadata": {},
     "output_type": "execute_result"
    }
   ],
   "source": [
    "from langchain_community.tools import DuckDuckGoSearchRun\n",
    "\n",
    "# init search\n",
    "search  = DuckDuckGoSearchRun()\n",
    "search.run(\"Obama's first name ?\")"
   ]
  },
  {
   "cell_type": "code",
   "execution_count": 2,
   "id": "d7d10246-a072-4664-ad9b-bd947e57752e",
   "metadata": {},
   "outputs": [
    {
     "data": {
      "text/plain": [
       "\"[snippet: Barack Obama and Nancy Pelosi have spoken privately about Joe Biden and the future of his 2024 campaign. Both the former president and ex-speaker expressed concerns about how much harder they ..., title: Obama, Pelosi privately expressed concerns over Biden - CNN, link: https://www.cnn.com/2024/07/11/politics/obama-pelosi-biden-democrats-2024/index.html], [snippet: Barack Obama—with his wife, Michelle—being sworn in as the 44th president of the United States, January 20, 2009. Key events in the life of Barack Obama. Barack Obama (born August 4, 1961, Honolulu, Hawaii, U.S.) is the 44th president of the United States (2009-17) and the first African American to hold the office., title: Barack Obama | Biography, Parents, Education, Presidency, Books ..., link: https://www.britannica.com/biography/Barack-Obama], [snippet: Former President Barack Obama recently said, in private, that President Joe Biden's chances at a successful presidential run in 2024 have declined and that he needs to examine whether it's the ..., title: Did Obama tell Biden to quit? What the former president said - USA TODAY, link: https://www.usatoday.com/story/news/politics/elections/2024/07/18/did-obama-tell-biden-to-quit-what-the-former-president-said/74458139007/], [snippet: Obama, perhaps the party's most revered figure, has tried to keep a lower profile, hoping to draw on his longtime friendship with Biden, his former running mate and vice president. But Obama's ..., title: Obama tells allies Biden's path to winning reelection has greatly ..., link: https://www.washingtonpost.com/politics/2024/07/18/obama-says-biden-must-consider-viability/]\""
      ]
     },
     "execution_count": 2,
     "metadata": {},
     "output_type": "execute_result"
    }
   ],
   "source": [
    "from langchain_community.tools import DuckDuckGoSearchResults\n",
    "\n",
    "search = DuckDuckGoSearchResults()\n",
    "search.run(\"Obama\")"
   ]
  },
  {
   "cell_type": "markdown",
   "id": "52e6fc04-f659-4cec-80e0-c71aabb25310",
   "metadata": {},
   "source": [
    "You can also just search for news articles. Use the keyword backend=\"news\""
   ]
  },
  {
   "cell_type": "code",
   "execution_count": 3,
   "id": "24c06be0-494b-407f-8820-8d30ec463de1",
   "metadata": {},
   "outputs": [
    {
     "data": {
      "text/plain": [
       "'[snippet: Rep. Zoe Lofgren (D-Calif.) floated having former Presidents Barack Obama and Bill Clinton vet candidates to replace President Friday before battling it out in a \"mini-primary.\" Lofgren, 76, explained in an interview with MSNBC that the Democratic Party would have to act fast to find a new candidate to put on the top of the ticket should the 81-year-president drop out of the race,, title: Democratic Rep. Zoe Lofgren floats \\'mini-primary\\' with candidates vetted by Obama, Clinton if Biden drops out, link: https://www.msn.com/en-us/news/politics/democratic-rep-zoe-lofgren-floats-mini-primary-with-candidates-vetted-by-obama-clinton-if-biden-drops-out/ar-BB1qiYbk, date: 2024-07-20T02:48:15+00:00, source: New York Post on MSN.com], [snippet: Former President Barack Obama has found himself in a vexing position as his old running mate Joe Biden negotiates one of the most sensitive political moments for the Democratic Party in decades, title: Obama\\'s dilemma: Balancing Democrats\\' worry about Biden and maintaining influence with president, link: https://www.msn.com/en-us/news/politics/obamas-dilemma-balancing-democrats-worry-about-biden-and-maintaining-influence-with-president/ar-BB1qfwio, date: 2024-07-19T04:46:00+00:00, source: The Associated Press on MSN.com], [snippet: Biden has insisted he\\'s not backing down, adamant that he\\'s the candidate who beat Trump before and will do so again. Pressed about reports that Biden might be softening to the idea of leaving the race, his deputy campaign manager Quentin Fulks said Thursday: \"He is not wavering on anything.\", title: Barack Obama is talking behind Biden\\'s back … and it\\'s not good, link: https://www.nj.com/politics/2024/07/barack-obama-is-talking-behind-bidens-back-and-its-not-good.html, date: 2024-07-18T19:52:00+00:00, source: NJ.com], [snippet: CNN\\'s Van Jones on Thursday said the energy at the Republican National Convention in Milwaukee was reminiscent of the 2008 Democratic National Convention when Barack Obama accepted the Democratic Party\\'s nomination., title: Van Jones Likens This Year\\'s RNC to Obama 2008: \\'There\\'s Something Happening\\', link: https://www.msn.com/en-us/news/politics/van-jones-likens-this-years-rnc-to-obama-2008-there-s-something-happening/ar-BB1qgfVn, date: 2024-07-19T08:07:12+00:00, source: HuffPost on MSN.com]'"
      ]
     },
     "execution_count": 3,
     "metadata": {},
     "output_type": "execute_result"
    }
   ],
   "source": [
    "search = DuckDuckGoSearchResults(backend=\"news\")\n",
    "search.run(\"Obama\")"
   ]
  },
  {
   "cell_type": "markdown",
   "id": "2d39c15b-f467-4673-9027-86283f33d597",
   "metadata": {},
   "source": [
    "## Langchain Tool with DuckDuckGoSearchTool"
   ]
  },
  {
   "cell_type": "code",
   "execution_count": null,
   "id": "0f2953e1-5a28-4730-a8be-f818956e72b7",
   "metadata": {},
   "outputs": [],
   "source": []
  }
 ],
 "metadata": {
  "kernelspec": {
   "display_name": "Python 3 (ipykernel)",
   "language": "python",
   "name": "python3"
  },
  "language_info": {
   "codemirror_mode": {
    "name": "ipython",
    "version": 3
   },
   "file_extension": ".py",
   "mimetype": "text/x-python",
   "name": "python",
   "nbconvert_exporter": "python",
   "pygments_lexer": "ipython3",
   "version": "3.10.13"
  }
 },
 "nbformat": 4,
 "nbformat_minor": 5
}
