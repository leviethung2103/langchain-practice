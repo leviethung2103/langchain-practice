{
 "cells": [
  {
   "cell_type": "raw",
   "metadata": {},
   "source": [
    "!pip install langchain openai google-search-results tiktoken yfinance"
   ]
  },
  {
   "cell_type": "raw",
   "metadata": {
    "scrolled": true
   },
   "source": [
    "!pip install langchain"
   ]
  },
  {
   "cell_type": "markdown",
   "metadata": {},
   "source": [
    "## Single Tool"
   ]
  },
  {
   "cell_type": "code",
   "execution_count": 1,
   "metadata": {},
   "outputs": [],
   "source": [
    "from langchain.tools import BaseTool\n",
    "from typing import Optional, Type\n",
    "from langchain.agents import initialize_agent, Tool\n",
    "from langchain.agents import AgentType\n",
    "from langchain.chat_models import ChatOpenAI\n",
    "from pydantic import BaseModel, Field\n",
    "import yfinance as yf"
   ]
  },
  {
   "cell_type": "code",
   "execution_count": 2,
   "metadata": {},
   "outputs": [
    {
     "name": "stdin",
     "output_type": "stream",
     "text": [
      "Enter your OpenAI API key:  ········\n"
     ]
    }
   ],
   "source": [
    "import getpass\n",
    "import os\n",
    "\n",
    "os.environ[\"OPENAI_API_KEY\"] = getpass.getpass(\"Enter your OpenAI API key: \")"
   ]
  },
  {
   "cell_type": "code",
   "execution_count": 3,
   "metadata": {},
   "outputs": [
    {
     "name": "stdout",
     "output_type": "stream",
     "text": [
      "224.31\n"
     ]
    },
    {
     "name": "stderr",
     "output_type": "stream",
     "text": [
      "/home/hunglv/miniconda3/envs/llm_py310/lib/python3.10/site-packages/yfinance/utils.py:775: FutureWarning: The 'unit' keyword in TimedeltaIndex construction is deprecated and will be removed in a future version. Use pd.to_timedelta instead.\n",
      "  df.index += _pd.TimedeltaIndex(dst_error_hours, 'h')\n",
      "/tmp/ipykernel_1277615/2413667966.py:4: FutureWarning: Series.__getitem__ treating keys as positions is deprecated. In a future version, integer keys will always be treated as labels (consistent with DataFrame behavior). To access a value by position, use `ser.iloc[pos]`\n",
      "  return round(todays_data['Close'][0], 2)\n"
     ]
    }
   ],
   "source": [
    "def get_stock_price (symbol):\n",
    "    ticker = yf.Ticker(symbol)\n",
    "    todays_data = ticker.history(period='id')\n",
    "    return round(todays_data['Close'][0], 2)\n",
    "    \n",
    "# use the function\n",
    "print (get_stock_price('AAPL'))\n",
    "\n",
    "class StockPriceCheckInput(BaseModel):\n",
    "    \"\"\"Input for Stock price check.\"\"\"\n",
    "\n",
    "    stockticker: str = Field(..., description=\"Ticker symbol for stock or index\")\n",
    "\n",
    "class StockPriceTool(BaseTool):\n",
    "    name = \"get_stock_ticker_price\"\n",
    "    description = \"Useful for when you need to find out the price of stock. You should input the stock ticker used on the yfinance API\"\n",
    "\n",
    "    def _run(self, stockticker: str):\n",
    "        # print(\"i'm running\")\n",
    "        price_response = get_stock_price(stockticker)\n",
    "\n",
    "        return price_response\n",
    "\n",
    "    def _arun(self, stockticker: str):\n",
    "        raise NotImplementedError(\"This tool does not support async\")\n",
    "\n",
    "    args_schema: Optional[Type[BaseModel]] = StockPriceCheckInput\n",
    "\n",
    "tools = [StockPriceTool()]"
   ]
  },
  {
   "cell_type": "code",
   "execution_count": 4,
   "metadata": {},
   "outputs": [
    {
     "name": "stderr",
     "output_type": "stream",
     "text": [
      "/home/hunglv/miniconda3/envs/llm_py310/lib/python3.10/site-packages/langchain_core/_api/deprecation.py:139: LangChainDeprecationWarning: The class `ChatOpenAI` was deprecated in LangChain 0.0.10 and will be removed in 0.3.0. An updated version of the class exists in the langchain-openai package and should be used instead. To use it run `pip install -U langchain-openai` and import as `from langchain_openai import ChatOpenAI`.\n",
      "  warn_deprecated(\n"
     ]
    }
   ],
   "source": [
    "llm = ChatOpenAI(temperature=0, model=\"gpt-3.5-turbo-0613\", )"
   ]
  },
  {
   "cell_type": "code",
   "execution_count": 5,
   "metadata": {},
   "outputs": [
    {
     "name": "stderr",
     "output_type": "stream",
     "text": [
      "/home/hunglv/miniconda3/envs/llm_py310/lib/python3.10/site-packages/langchain_core/_api/deprecation.py:139: LangChainDeprecationWarning: The function `initialize_agent` was deprecated in LangChain 0.1.0 and will be removed in 0.3.0. Use Use new agent constructor methods like create_react_agent, create_json_agent, create_structured_chat_agent, etc. instead.\n",
      "  warn_deprecated(\n"
     ]
    }
   ],
   "source": [
    "open_ai_agent = initialize_agent(tools,\n",
    "                        llm,\n",
    "                        agent=AgentType.OPENAI_FUNCTIONS,\n",
    "                        verbose=True)"
   ]
  },
  {
   "cell_type": "code",
   "execution_count": 6,
   "metadata": {},
   "outputs": [
    {
     "name": "stderr",
     "output_type": "stream",
     "text": [
      "/home/hunglv/miniconda3/envs/llm_py310/lib/python3.10/site-packages/langchain_core/_api/deprecation.py:139: LangChainDeprecationWarning: The method `Chain.run` was deprecated in langchain 0.1.0 and will be removed in 0.3.0. Use invoke instead.\n",
      "  warn_deprecated(\n"
     ]
    },
    {
     "name": "stdout",
     "output_type": "stream",
     "text": [
      "\n",
      "\n",
      "\u001b[1m> Entering new AgentExecutor chain...\u001b[0m\n",
      "\u001b[32;1m\u001b[1;3m\n",
      "Invoking: `get_stock_ticker_price` with `{'stockticker': 'GOOGL'}`\n",
      "\n",
      "\n",
      "\u001b[0m\u001b[36;1m\u001b[1;3m177.66\u001b[0m"
     ]
    },
    {
     "name": "stderr",
     "output_type": "stream",
     "text": [
      "/home/hunglv/miniconda3/envs/llm_py310/lib/python3.10/site-packages/yfinance/utils.py:775: FutureWarning: The 'unit' keyword in TimedeltaIndex construction is deprecated and will be removed in a future version. Use pd.to_timedelta instead.\n",
      "  df.index += _pd.TimedeltaIndex(dst_error_hours, 'h')\n",
      "/tmp/ipykernel_1277615/2413667966.py:4: FutureWarning: Series.__getitem__ treating keys as positions is deprecated. In a future version, integer keys will always be treated as labels (consistent with DataFrame behavior). To access a value by position, use `ser.iloc[pos]`\n",
      "  return round(todays_data['Close'][0], 2)\n"
     ]
    },
    {
     "name": "stdout",
     "output_type": "stream",
     "text": [
      "\u001b[32;1m\u001b[1;3mThe current price of Google stock (GOOGL) is $177.66.\u001b[0m\n",
      "\n",
      "\u001b[1m> Finished chain.\u001b[0m\n"
     ]
    },
    {
     "data": {
      "text/plain": [
       "'The current price of Google stock (GOOGL) is $177.66.'"
      ]
     },
     "execution_count": 6,
     "metadata": {},
     "output_type": "execute_result"
    }
   ],
   "source": [
    "open_ai_agent.run(\"What is the price of Google stock?\")"
   ]
  },
  {
   "cell_type": "code",
   "execution_count": 7,
   "metadata": {
    "scrolled": true
   },
   "outputs": [
    {
     "name": "stdout",
     "output_type": "stream",
     "text": [
      "\n",
      "\n",
      "\u001b[1m> Entering new AgentExecutor chain...\u001b[0m\n",
      "\u001b[32;1m\u001b[1;3m\n",
      "Invoking: `get_stock_ticker_price` with `{'stockticker': 'BTC-USD'}`\n",
      "\n",
      "\n",
      "\u001b[0m\u001b[36;1m\u001b[1;3m66481.7\u001b[0m"
     ]
    },
    {
     "name": "stderr",
     "output_type": "stream",
     "text": [
      "/home/hunglv/miniconda3/envs/llm_py310/lib/python3.10/site-packages/yfinance/utils.py:775: FutureWarning: The 'unit' keyword in TimedeltaIndex construction is deprecated and will be removed in a future version. Use pd.to_timedelta instead.\n",
      "  df.index += _pd.TimedeltaIndex(dst_error_hours, 'h')\n",
      "/tmp/ipykernel_1277615/2413667966.py:4: FutureWarning: Series.__getitem__ treating keys as positions is deprecated. In a future version, integer keys will always be treated as labels (consistent with DataFrame behavior). To access a value by position, use `ser.iloc[pos]`\n",
      "  return round(todays_data['Close'][0], 2)\n"
     ]
    },
    {
     "name": "stdout",
     "output_type": "stream",
     "text": [
      "\u001b[32;1m\u001b[1;3mThe current price of Bitcoin is $66,481.70.\u001b[0m\n",
      "\n",
      "\u001b[1m> Finished chain.\u001b[0m\n"
     ]
    },
    {
     "data": {
      "text/plain": [
       "'The current price of Bitcoin is $66,481.70.'"
      ]
     },
     "execution_count": 7,
     "metadata": {},
     "output_type": "execute_result"
    }
   ],
   "source": [
    "open_ai_agent.run(\"What is the price of Bitcoin?\")"
   ]
  },
  {
   "cell_type": "code",
   "execution_count": 8,
   "metadata": {},
   "outputs": [
    {
     "name": "stdout",
     "output_type": "stream",
     "text": [
      "\n",
      "\n",
      "\u001b[1m> Entering new AgentExecutor chain...\u001b[0m\n",
      "\u001b[32;1m\u001b[1;3m\n",
      "Invoking: `get_stock_ticker_price` with `{'stockticker': 'ETH-USD'}`\n",
      "\n",
      "\n",
      "\u001b[0m\u001b[36;1m\u001b[1;3m3499.71\u001b[0m"
     ]
    },
    {
     "name": "stderr",
     "output_type": "stream",
     "text": [
      "/home/hunglv/miniconda3/envs/llm_py310/lib/python3.10/site-packages/yfinance/utils.py:775: FutureWarning: The 'unit' keyword in TimedeltaIndex construction is deprecated and will be removed in a future version. Use pd.to_timedelta instead.\n",
      "  df.index += _pd.TimedeltaIndex(dst_error_hours, 'h')\n",
      "/tmp/ipykernel_1277615/2413667966.py:4: FutureWarning: Series.__getitem__ treating keys as positions is deprecated. In a future version, integer keys will always be treated as labels (consistent with DataFrame behavior). To access a value by position, use `ser.iloc[pos]`\n",
      "  return round(todays_data['Close'][0], 2)\n"
     ]
    },
    {
     "name": "stdout",
     "output_type": "stream",
     "text": [
      "\u001b[32;1m\u001b[1;3mThe current price of ETH is $3499.71.\u001b[0m\n",
      "\n",
      "\u001b[1m> Finished chain.\u001b[0m\n"
     ]
    },
    {
     "data": {
      "text/plain": [
       "'The current price of ETH is $3499.71.'"
      ]
     },
     "execution_count": 8,
     "metadata": {},
     "output_type": "execute_result"
    }
   ],
   "source": [
    "open_ai_agent.run(\"What is the price of ETH?\")"
   ]
  },
  {
   "cell_type": "markdown",
   "metadata": {
    "jp-MarkdownHeadingCollapsed": true
   },
   "source": [
    "## OpenAI Functions Agent\n",
    "\n",
    "### Advantages\n",
    "- Better reasoning and tool selection than ReACT / Toolformer?\n",
    "- Less tokens needed\n",
    "\n",
    "### Disadvantages\n",
    "- Not as easy to customize via prompt change etc if it doesn't work\n",
    "- locks you code into the OpenAI way\n",
    "- Still need tokens for Tool/Function descriptions"
   ]
  },
  {
   "cell_type": "markdown",
   "metadata": {},
   "source": [
    "## Multiple Tools"
   ]
  },
  {
   "cell_type": "code",
   "execution_count": 15,
   "metadata": {
    "jupyter": {
     "source_hidden": true
    }
   },
   "outputs": [
    {
     "name": "stderr",
     "output_type": "stream",
     "text": [
      "/home/hunglv/miniconda3/envs/llm_py310/lib/python3.10/site-packages/yfinance/utils.py:775: FutureWarning: The 'unit' keyword in TimedeltaIndex construction is deprecated and will be removed in a future version. Use pd.to_timedelta instead.\n",
      "  df.index += _pd.TimedeltaIndex(dst_error_hours, 'h')\n"
     ]
    },
    {
     "data": {
      "text/plain": [
       "6.98"
      ]
     },
     "execution_count": 15,
     "metadata": {},
     "output_type": "execute_result"
    }
   ],
   "source": [
    "from datetime import datetime, timedelta\n",
    "\n",
    "def get_price_change_percent(symbol, days_ago):\n",
    "    ticker = yf.Ticker(symbol)\n",
    "\n",
    "    # Get today's date\n",
    "    end_date = datetime.now()\n",
    "\n",
    "    # Get the date N days ago\n",
    "    start_date = end_date - timedelta(days=days_ago)\n",
    "\n",
    "    # Convert dates to string format that yfinance can accept\n",
    "    start_date = start_date.strftime('%Y-%m-%d')\n",
    "    end_date = end_date.strftime('%Y-%m-%d')\n",
    "\n",
    "    # Get the historical data\n",
    "    historical_data = ticker.history(start=start_date, end=end_date)\n",
    "\n",
    "    # Get the closing price N days ago and today's closing price\n",
    "    old_price = historical_data['Close'].iloc[0]\n",
    "    new_price = historical_data['Close'].iloc[-1]\n",
    "\n",
    "    # Calculate the percentage change\n",
    "    percent_change = ((new_price - old_price) / old_price) * 100\n",
    "\n",
    "    return round(percent_change, 2)\n",
    "\n",
    "# use the function\n",
    "get_price_change_percent(\"AAPL\", 30) # for 30 days ago"
   ]
  },
  {
   "cell_type": "code",
   "execution_count": 17,
   "metadata": {},
   "outputs": [
    {
     "name": "stderr",
     "output_type": "stream",
     "text": [
      "/home/hunglv/miniconda3/envs/llm_py310/lib/python3.10/site-packages/yfinance/utils.py:775: FutureWarning: The 'unit' keyword in TimedeltaIndex construction is deprecated and will be removed in a future version. Use pd.to_timedelta instead.\n",
      "  df.index += _pd.TimedeltaIndex(dst_error_hours, 'h')\n",
      "/home/hunglv/miniconda3/envs/llm_py310/lib/python3.10/site-packages/yfinance/utils.py:775: FutureWarning: The 'unit' keyword in TimedeltaIndex construction is deprecated and will be removed in a future version. Use pd.to_timedelta instead.\n",
      "  df.index += _pd.TimedeltaIndex(dst_error_hours, 'h')\n",
      "/home/hunglv/miniconda3/envs/llm_py310/lib/python3.10/site-packages/yfinance/utils.py:775: FutureWarning: The 'unit' keyword in TimedeltaIndex construction is deprecated and will be removed in a future version. Use pd.to_timedelta instead.\n",
      "  df.index += _pd.TimedeltaIndex(dst_error_hours, 'h')\n"
     ]
    },
    {
     "data": {
      "text/plain": [
       "('AAPL', 35.44)"
      ]
     },
     "execution_count": 17,
     "metadata": {},
     "output_type": "execute_result"
    }
   ],
   "source": [
    "import yfinance as yf\n",
    "from datetime import datetime, timedelta\n",
    "\n",
    "def calculate_performance(symbol, days_ago):\n",
    "    ticker = yf.Ticker(symbol)\n",
    "    end_date = datetime.now()\n",
    "    start_date = end_date - timedelta(days=days_ago)\n",
    "    start_date = start_date.strftime('%Y-%m-%d')\n",
    "    end_date = end_date.strftime('%Y-%m-%d')\n",
    "    historical_data = ticker.history(start=start_date, end=end_date)\n",
    "    old_price = historical_data['Close'].iloc[0]\n",
    "    new_price = historical_data['Close'].iloc[-1]\n",
    "    percent_change = ((new_price - old_price) / old_price) * 100\n",
    "    return round(percent_change, 2)\n",
    "\n",
    "def get_best_performance(stocks, days_ago):\n",
    "    best_stock = None\n",
    "    best_performance = None\n",
    "    for stock in stocks:\n",
    "        try:\n",
    "            performance = calculate_performance(stock, days_ago)\n",
    "            if best_performance is None or performance > best_performance:\n",
    "                best_stock = stock\n",
    "                best_performance = performance\n",
    "        except Exception as e:\n",
    "            print(f\"Could not calculate performance for {stock}: {e}\")\n",
    "    return best_stock, best_performance\n",
    "\n",
    "stocks = ['AAPL', 'MSFT', 'GOOG']\n",
    "days_ago = 90\n",
    "\n",
    "get_best_performance(stocks, days_ago)"
   ]
  },
  {
   "cell_type": "markdown",
   "metadata": {},
   "source": [
    "### Make the tools"
   ]
  },
  {
   "cell_type": "code",
   "execution_count": 34,
   "metadata": {},
   "outputs": [],
   "source": [
    "\n",
    "class StockPriceCheckInput(BaseModel):\n",
    "    \"\"\"Input for Stock price check.\"\"\"\n",
    "\n",
    "    stockticker: str = Field(..., description=\"Ticker symbol for stock or index\")\n",
    "\n",
    "class StockPriceTool(BaseTool):\n",
    "    name = \"get_stock_ticker_price\"\n",
    "    description = \"Useful for when you need to find out the price of stock. You should input the stock ticker used on the yfinance API\"\n",
    "\n",
    "    def _run(self, stockticker: str):\n",
    "        # print(\"i'm running\")\n",
    "        price_response = get_stock_price(stockticker)\n",
    "\n",
    "        return price_response\n",
    "\n",
    "    def _arun(self, stockticker: str):\n",
    "        raise NotImplementedError(\"This tool does not support async\")\n",
    "\n",
    "    args_schema: Optional[Type[BaseModel]] = StockPriceCheckInput\n",
    "\n",
    "\n",
    "class StockChangePercentageCheckInput(BaseModel):\n",
    "    \"\"\"Input for Stock ticker check. for percentage check\"\"\"\n",
    "    stockticker: str = Field(..., description=\"Ticker symbol for stock or index\")\n",
    "    days_ago: int  = Field(..., description=\"Int number of days to look back\")\n",
    "\n",
    "class StockChangePercentageTool(BaseTool):\n",
    "    name = 'get_stock_ticker_change'\n",
    "    description = \"Useful for when you need to find out the percentage change in a stock's value. You should input the stock ticker used on the yfinance API and also input the number of days to check the change over\"\n",
    "\n",
    "    def _run(self, stockticker: str, days_ago: int):\n",
    "        percentage = calculate_performance(stockticker, days_ago)\n",
    "        return percentage\n",
    "\n",
    "    def _arun(self, stockticker: str):\n",
    "        raise NotImplementedError(\"This tool does not support async\")\n",
    "\n",
    "    args_schema: Optional[Type[BaseModel]] = StockChangePercentageCheckInput\n",
    "    \n",
    "class StockBestPerformingInput(BaseModel):\n",
    "    \"\"\"Input for Best performance stock check\"\"\"\n",
    "    stocks: list = Field(..., description=\"List of stocks\")\n",
    "    days_ago: int  = Field(..., description=\"Number of day\")\n",
    "    \n",
    "class StockGetBestPerformingTool(BaseTool):\n",
    "    name = 'get_best_stock_performance'\n",
    "    description = \"Useful for when you need to find best performance of multiple stocks over a period. You should input the list of stocks used on the yfinance API and also input the number of days to check the change over\"\n",
    "\n",
    "    def _run(self, stocks: list, days_ago: int):\n",
    "        percentage = get_best_performance(stocks, days_ago)\n",
    "        return percentage\n",
    "\n",
    "    def _arun(self, stockticker: str):\n",
    "        raise NotImplementedError(\"This tool does not support async\")\n",
    "\n",
    "    args_schema: Optional[Type[BaseModel]] = StockBestPerformingInput\n",
    "\n",
    "\n",
    "tools = [StockPriceTool(), StockChangePercentageTool(), StockGetBestPerformingTool()]"
   ]
  },
  {
   "cell_type": "code",
   "execution_count": 35,
   "metadata": {},
   "outputs": [],
   "source": [
    "llm = ChatOpenAI(temperature=0, model=\"gpt-3.5-turbo-0613\")\n",
    "\n",
    "open_ai_agent = initialize_agent(tools,\n",
    "                        llm,\n",
    "                        agent=AgentType.OPENAI_FUNCTIONS,\n",
    "                        verbose=True)\n"
   ]
  },
  {
   "cell_type": "code",
   "execution_count": 36,
   "metadata": {},
   "outputs": [
    {
     "name": "stdout",
     "output_type": "stream",
     "text": [
      "\n",
      "\n",
      "\u001b[1m> Entering new AgentExecutor chain...\u001b[0m\n",
      "\u001b[32;1m\u001b[1;3m\n",
      "Invoking: `get_stock_ticker_price` with `{'stockticker': 'GOOGL'}`\n",
      "\n",
      "\n",
      "\u001b[0m\u001b[36;1m\u001b[1;3m177.66\u001b[0m"
     ]
    },
    {
     "name": "stderr",
     "output_type": "stream",
     "text": [
      "/home/hunglv/miniconda3/envs/llm_py310/lib/python3.10/site-packages/yfinance/utils.py:775: FutureWarning: The 'unit' keyword in TimedeltaIndex construction is deprecated and will be removed in a future version. Use pd.to_timedelta instead.\n",
      "  df.index += _pd.TimedeltaIndex(dst_error_hours, 'h')\n",
      "/tmp/ipykernel_1277615/2413667966.py:4: FutureWarning: Series.__getitem__ treating keys as positions is deprecated. In a future version, integer keys will always be treated as labels (consistent with DataFrame behavior). To access a value by position, use `ser.iloc[pos]`\n",
      "  return round(todays_data['Close'][0], 2)\n"
     ]
    },
    {
     "name": "stdout",
     "output_type": "stream",
     "text": [
      "\u001b[32;1m\u001b[1;3mThe price of Google stock today is $177.66.\u001b[0m\n",
      "\n",
      "\u001b[1m> Finished chain.\u001b[0m\n"
     ]
    },
    {
     "data": {
      "text/plain": [
       "'The price of Google stock today is $177.66.'"
      ]
     },
     "execution_count": 36,
     "metadata": {},
     "output_type": "execute_result"
    }
   ],
   "source": [
    "open_ai_agent.run(\"What is the price of Google stock today?\")"
   ]
  },
  {
   "cell_type": "code",
   "execution_count": 37,
   "metadata": {},
   "outputs": [
    {
     "name": "stdout",
     "output_type": "stream",
     "text": [
      "\n",
      "\n",
      "\u001b[1m> Entering new AgentExecutor chain...\u001b[0m\n",
      "\u001b[32;1m\u001b[1;3m\n",
      "Invoking: `get_stock_ticker_change` with `{'stockticker': 'GOOGL', 'days_ago': 90}`\n",
      "\n",
      "\n",
      "\u001b[0m\u001b[33;1m\u001b[1;3m13.81\u001b[0m"
     ]
    },
    {
     "name": "stderr",
     "output_type": "stream",
     "text": [
      "/home/hunglv/miniconda3/envs/llm_py310/lib/python3.10/site-packages/yfinance/utils.py:775: FutureWarning: The 'unit' keyword in TimedeltaIndex construction is deprecated and will be removed in a future version. Use pd.to_timedelta instead.\n",
      "  df.index += _pd.TimedeltaIndex(dst_error_hours, 'h')\n"
     ]
    },
    {
     "name": "stdout",
     "output_type": "stream",
     "text": [
      "\u001b[32;1m\u001b[1;3mYes, Google's stock (GOOGL) has gone up by 13.81% over the past 90 days.\u001b[0m\n",
      "\n",
      "\u001b[1m> Finished chain.\u001b[0m\n"
     ]
    },
    {
     "data": {
      "text/plain": [
       "\"Yes, Google's stock (GOOGL) has gone up by 13.81% over the past 90 days.\""
      ]
     },
     "execution_count": 37,
     "metadata": {},
     "output_type": "execute_result"
    }
   ],
   "source": [
    "open_ai_agent.run(\"Has google's stock gone up over the past 90 days?\")"
   ]
  },
  {
   "cell_type": "code",
   "execution_count": 32,
   "metadata": {},
   "outputs": [
    {
     "name": "stdout",
     "output_type": "stream",
     "text": [
      "\n",
      "\n",
      "\u001b[1m> Entering new AgentExecutor chain...\u001b[0m\n",
      "\u001b[32;1m\u001b[1;3m\n",
      "Invoking: `get_stock_ticker_change` with `{'stockticker': 'GOOGL', 'days_ago': 90}`\n",
      "\n",
      "\n",
      "\u001b[0m\u001b[33;1m\u001b[1;3m13.81\u001b[0m"
     ]
    },
    {
     "name": "stderr",
     "output_type": "stream",
     "text": [
      "/home/hunglv/miniconda3/envs/llm_py310/lib/python3.10/site-packages/yfinance/utils.py:775: FutureWarning: The 'unit' keyword in TimedeltaIndex construction is deprecated and will be removed in a future version. Use pd.to_timedelta instead.\n",
      "  df.index += _pd.TimedeltaIndex(dst_error_hours, 'h')\n"
     ]
    },
    {
     "name": "stdout",
     "output_type": "stream",
     "text": [
      "\u001b[32;1m\u001b[1;3mGoogle's stock has gone up by 13.81% over the past 3 months.\u001b[0m\n",
      "\n",
      "\u001b[1m> Finished chain.\u001b[0m\n"
     ]
    },
    {
     "data": {
      "text/plain": [
       "\"Google's stock has gone up by 13.81% over the past 3 months.\""
      ]
     },
     "execution_count": 32,
     "metadata": {},
     "output_type": "execute_result"
    }
   ],
   "source": [
    "open_ai_agent.run(\"How much has google's stock gone up over the past 3 months?\")"
   ]
  },
  {
   "cell_type": "code",
   "execution_count": 38,
   "metadata": {},
   "outputs": [
    {
     "name": "stdout",
     "output_type": "stream",
     "text": [
      "\n",
      "\n",
      "\u001b[1m> Entering new AgentExecutor chain...\u001b[0m\n",
      "\u001b[32;1m\u001b[1;3m\n",
      "Invoking: `get_best_stock_performance` with `{'stocks': ['GOOGL', 'META', 'MSFT'], 'days_ago': 90}`\n",
      "\n",
      "\n",
      "\u001b[0m"
     ]
    },
    {
     "name": "stderr",
     "output_type": "stream",
     "text": [
      "/home/hunglv/miniconda3/envs/llm_py310/lib/python3.10/site-packages/yfinance/utils.py:775: FutureWarning: The 'unit' keyword in TimedeltaIndex construction is deprecated and will be removed in a future version. Use pd.to_timedelta instead.\n",
      "  df.index += _pd.TimedeltaIndex(dst_error_hours, 'h')\n",
      "/home/hunglv/miniconda3/envs/llm_py310/lib/python3.10/site-packages/yfinance/utils.py:775: FutureWarning: The 'unit' keyword in TimedeltaIndex construction is deprecated and will be removed in a future version. Use pd.to_timedelta instead.\n",
      "  df.index += _pd.TimedeltaIndex(dst_error_hours, 'h')\n",
      "/home/hunglv/miniconda3/envs/llm_py310/lib/python3.10/site-packages/yfinance/utils.py:775: FutureWarning: The 'unit' keyword in TimedeltaIndex construction is deprecated and will be removed in a future version. Use pd.to_timedelta instead.\n",
      "  df.index += _pd.TimedeltaIndex(dst_error_hours, 'h')\n"
     ]
    },
    {
     "name": "stdout",
     "output_type": "stream",
     "text": [
      "\u001b[38;5;200m\u001b[1;3m('GOOGL', 13.81)\u001b[0m\u001b[32;1m\u001b[1;3mGoogle (GOOGL) has performed the best over the past 3 months with a return of 13.81%.\u001b[0m\n",
      "\n",
      "\u001b[1m> Finished chain.\u001b[0m\n"
     ]
    },
    {
     "data": {
      "text/plain": [
       "'Google (GOOGL) has performed the best over the past 3 months with a return of 13.81%.'"
      ]
     },
     "execution_count": 38,
     "metadata": {},
     "output_type": "execute_result"
    }
   ],
   "source": [
    "open_ai_agent.run(\"Which stock out of Google, Meta and MSFT has performed best over the past 3 months?\")"
   ]
  },
  {
   "cell_type": "code",
   "execution_count": 39,
   "metadata": {},
   "outputs": [
    {
     "name": "stdout",
     "output_type": "stream",
     "text": [
      "\n",
      "\n",
      "\u001b[1m> Entering new AgentExecutor chain...\u001b[0m\n",
      "\u001b[32;1m\u001b[1;3m\n",
      "Invoking: `get_stock_ticker_change` with `{'stockticker': 'MSFT', 'days_ago': 90}`\n",
      "\n",
      "\n",
      "\u001b[0m\u001b[33;1m\u001b[1;3m9.21\u001b[0m"
     ]
    },
    {
     "name": "stderr",
     "output_type": "stream",
     "text": [
      "/home/hunglv/miniconda3/envs/llm_py310/lib/python3.10/site-packages/yfinance/utils.py:775: FutureWarning: The 'unit' keyword in TimedeltaIndex construction is deprecated and will be removed in a future version. Use pd.to_timedelta instead.\n",
      "  df.index += _pd.TimedeltaIndex(dst_error_hours, 'h')\n"
     ]
    },
    {
     "name": "stdout",
     "output_type": "stream",
     "text": [
      "\u001b[32;1m\u001b[1;3mThe stock price of MSFT has gone up by 9.21% over the past 3 months.\u001b[0m\n",
      "\n",
      "\u001b[1m> Finished chain.\u001b[0m\n"
     ]
    },
    {
     "data": {
      "text/plain": [
       "'The stock price of MSFT has gone up by 9.21% over the past 3 months.'"
      ]
     },
     "execution_count": 39,
     "metadata": {},
     "output_type": "execute_result"
    }
   ],
   "source": [
    "open_ai_agent.run(\"How much has MSFT's stock gone up over the past 3 months?\")"
   ]
  },
  {
   "cell_type": "code",
   "execution_count": 40,
   "metadata": {},
   "outputs": [
    {
     "name": "stdout",
     "output_type": "stream",
     "text": [
      "\n",
      "\n",
      "\u001b[1m> Entering new AgentExecutor chain...\u001b[0m\n",
      "\u001b[32;1m\u001b[1;3m\n",
      "Invoking: `get_stock_ticker_change` with `{'stockticker': 'BTC-USD', 'days_ago': 90}`\n",
      "\n",
      "\n",
      "\u001b[0m\u001b[33;1m\u001b[1;3m-1.47\u001b[0m"
     ]
    },
    {
     "name": "stderr",
     "output_type": "stream",
     "text": [
      "/home/hunglv/miniconda3/envs/llm_py310/lib/python3.10/site-packages/yfinance/utils.py:775: FutureWarning: The 'unit' keyword in TimedeltaIndex construction is deprecated and will be removed in a future version. Use pd.to_timedelta instead.\n",
      "  df.index += _pd.TimedeltaIndex(dst_error_hours, 'h')\n"
     ]
    },
    {
     "name": "stdout",
     "output_type": "stream",
     "text": [
      "\u001b[32;1m\u001b[1;3mBitcoin has gone down by 1.47% over the past 3 months.\u001b[0m\n",
      "\n",
      "\u001b[1m> Finished chain.\u001b[0m\n"
     ]
    },
    {
     "data": {
      "text/plain": [
       "'Bitcoin has gone down by 1.47% over the past 3 months.'"
      ]
     },
     "execution_count": 40,
     "metadata": {},
     "output_type": "execute_result"
    }
   ],
   "source": [
    "open_ai_agent.run(\"How much has Bitcoin gone up over the past 3 months?\")"
   ]
  }
 ],
 "metadata": {
  "kernelspec": {
   "display_name": "Python 3 (ipykernel)",
   "language": "python",
   "name": "python3"
  },
  "language_info": {
   "codemirror_mode": {
    "name": "ipython",
    "version": 3
   },
   "file_extension": ".py",
   "mimetype": "text/x-python",
   "name": "python",
   "nbconvert_exporter": "python",
   "pygments_lexer": "ipython3",
   "version": "3.10.13"
  }
 },
 "nbformat": 4,
 "nbformat_minor": 4
}
