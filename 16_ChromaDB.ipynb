{
 "cells": [
  {
   "cell_type": "markdown",
   "id": "b0ff7a1c-fee5-4cb1-ba65-d9fd83228ce2",
   "metadata": {},
   "source": [
    "## How does Chroma DB work?\n",
    "https://www.analyticsvidhya.com/blog/2023/07/guide-to-chroma-db-a-vector-store-for-your-generative-ai-llms/\n",
    "\n",
    "Here are the steps describing how Chroma DB works:\n",
    "\n",
    "- Data Structure: Chroma DB organizes chromatic data in a structured format optimized for efficient storage and retrieval.\n",
    "- Storage: It stores color-related information such as RGB values, color names, and associated metadata in the database.\n",
    "- Indexing: Chroma DB creates indexes to facilitate fast lookup of colors based on various criteria like RGB values, color names, or other attributes.\n",
    "- Querying: Users can query Chroma DB using specific criteria such as color codes, names, or properties to retrieve relevant color information.\n",
    "- Analysis: Chroma DB enables analysis of color data for various applications such as image processing, design, and color matching.\n",
    "- Optimization: The database is optimized for speed and efficiency, allowing for quick retrieval and processing of color-related information.\n",
    "- Integration: It can be integrated into different software applications and platforms to provide color-related functionalities seamlessly.\n",
    "- Continued Improvement: Chroma DB may undergo updates and improvements to enhance its capabilities and accommodate evolving requirements in color management and analysis."
   ]
  },
  {
   "cell_type": "raw",
   "id": "2ef9ddc7-4135-4451-8926-6d65d2213fea",
   "metadata": {
    "scrolled": true
   },
   "source": [
    "!pip install chromadb"
   ]
  },
  {
   "cell_type": "markdown",
   "id": "d7e0aa8d-1ee1-468b-9b6a-979a4f61705e",
   "metadata": {},
   "source": [
    "# Steps\n",
    "https://colab.research.google.com/drive/1QEzFyqnoFxq7LUGyP1vzR4iLt9PpCDXv?usp=sharing\n",
    "\n",
    "1. Create the client\n",
    "2. Create the collection\n",
    "3. Load data\n",
    "4. Query data by nearest embedding"
   ]
  },
  {
   "cell_type": "code",
   "execution_count": null,
   "id": "eaffeaab-9ebb-45de-8d08-e5f24761a827",
   "metadata": {},
   "outputs": [],
   "source": [
    "import chromadb\n",
    "from chromadb.config import Settings\n",
    "\n",
    "\n",
    "client = chromadb.Client()\n",
    "collection = client.get_or_create_collection(\"test\")\n"
   ]
  },
  {
   "cell_type": "markdown",
   "id": "a12dedb8-c3d3-4b6a-88c3-9cc7f6280b12",
   "metadata": {},
   "source": [
    "8 documents, each document contains embeding."
   ]
  },
  {
   "cell_type": "code",
   "execution_count": null,
   "id": "1d75e199-85e2-43b4-9493-d78913a8b4c3",
   "metadata": {},
   "outputs": [],
   "source": [
    "collection.add(\n",
    "    embeddings=[\n",
    "        [1.1, 2.3, 3.2],\n",
    "        [4.5, 6.9, 4.4],\n",
    "        [1.1, 2.3, 3.2],\n",
    "        [4.5, 6.9, 4.4],\n",
    "        [1.1, 2.3, 3.2],\n",
    "        [4.5, 6.9, 4.4],\n",
    "        [1.1, 2.3, 3.2],\n",
    "        [4.5, 6.9, 4.4],\n",
    "    ],\n",
    "    metadatas=[\n",
    "        {\"uri\": \"img1.png\", \"style\": \"style1\"},\n",
    "        {\"uri\": \"img2.png\", \"style\": \"style2\"},\n",
    "        {\"uri\": \"img3.png\", \"style\": \"style1\"},\n",
    "        {\"uri\": \"img4.png\", \"style\": \"style1\"},\n",
    "        {\"uri\": \"img5.png\", \"style\": \"style1\"},\n",
    "        {\"uri\": \"img6.png\", \"style\": \"style1\"},\n",
    "        {\"uri\": \"img7.png\", \"style\": \"style1\"},\n",
    "        {\"uri\": \"img8.png\", \"style\": \"style1\"},\n",
    "    ],\n",
    "    documents=[\"doc1\", \"doc2\", \"doc3\", \"doc4\", \"doc5\", \"doc6\", \"doc7\", \"doc8\"],\n",
    "    ids=[\"id1\", \"id2\", \"id3\", \"id4\", \"id5\", \"id6\", \"id7\", \"id8\"],\n",
    ")"
   ]
  },
  {
   "cell_type": "code",
   "execution_count": null,
   "id": "ed36f224-be57-46ad-89a9-ea2aba7163e4",
   "metadata": {},
   "outputs": [],
   "source": [
    "query_result = collection.query(query_embeddings=[[1.1, 2.3, 3.2], [5.1, 4.3, 2.2]], n_results=2)"
   ]
  },
  {
   "cell_type": "code",
   "execution_count": null,
   "id": "7199fe97-2d3a-4852-bb6f-28dd9cf9e471",
   "metadata": {},
   "outputs": [],
   "source": [
    "query_result"
   ]
  },
  {
   "cell_type": "markdown",
   "id": "ff8ac1e1-e71e-4e42-be52-1fa71fdf3d15",
   "metadata": {},
   "source": [
    "## Result Interpretation\n",
    "\n",
    "[1.1, 2.3, 3.2] -> id3, id1\n",
    "\n",
    "[5.1, 4.3, 2.2] -> id2 and id4 \n",
    "\n",
    "because n_results 2, system only returns 2 nearest vectors\n",
    "\n",
    "It will returns\n",
    "- ids\n",
    "- distances\n",
    "- metadatas\n",
    "- documents"
   ]
  },
  {
   "cell_type": "markdown",
   "id": "3bbab9fd-1b8f-4c23-925c-b8ad66f846fe",
   "metadata": {},
   "source": [
    "## Another Example\n",
    "\n",
    "Persistent Client\n",
    "\n",
    "To create your a local persistent client use the PersistentClient class. This client will store all data locally in a directory on your machine at the path you specify.\n",
    "\n",
    "Parameters:\n",
    "\n",
    "- path - parameter must be a local path on the machine where Chroma is running. If the path does not exist, it will be created. The path can be relative or absolute. If the path is not specified, the default is ./chroma in the current working directory.\n",
    "- settings - Chroma settings object.\n",
    "- tenant - the tenant to use. Default is default_tenant.\n",
    "- database - the database to use. Default is default_database.\n",
    "\n",
    "Uses of Persistent Client\n",
    "The persistent client is useful for:\n",
    "\n",
    "- Local development: You can use the persistent client to develop locally and test out ChromaDB.\n",
    "- Embedded applications: You can use the persistent client to embed ChromaDB in your application. For example, if you are building a web application, you can use the persistent client to store data locally on the server.\n",
    "\n",
    "data is saved as sqlite"
   ]
  },
  {
   "cell_type": "code",
   "execution_count": null,
   "id": "417503e6-838c-49d0-8f29-5e9b119d0a17",
   "metadata": {},
   "outputs": [],
   "source": [
    "import chromadb\n",
    "from chromadb.config import DEFAULT_TENANT, DEFAULT_DATABASE, Settings"
   ]
  },
  {
   "cell_type": "code",
   "execution_count": null,
   "id": "8b0b95a2-0872-4a85-bb80-f326f634d8a9",
   "metadata": {},
   "outputs": [],
   "source": [
    "client = chromadb.PersistentClient(\n",
    "    path=\"test\",\n",
    "    settings=Settings(),\n",
    "    tenant=DEFAULT_TENANT,\n",
    "    database=DEFAULT_DATABASE,\n",
    ")"
   ]
  },
  {
   "cell_type": "code",
   "execution_count": null,
   "id": "92fe4cbf-370e-45d5-84f9-19404ce8f19f",
   "metadata": {},
   "outputs": [],
   "source": [
    "collection = client.get_or_create_collection(\"test\")"
   ]
  },
  {
   "cell_type": "code",
   "execution_count": null,
   "id": "4ef106ae-0d45-4a3d-b8a6-4a75af7e06a5",
   "metadata": {},
   "outputs": [],
   "source": [
    "collection.add(\n",
    "    embeddings=[\n",
    "        [1.1, 2.3, 3.2],\n",
    "        [4.5, 6.9, 4.4],\n",
    "        [1.1, 2.3, 3.2],\n",
    "        [4.5, 6.9, 4.4],\n",
    "        [1.1, 2.3, 3.2],\n",
    "        [4.5, 6.9, 4.4],\n",
    "        [1.1, 2.3, 3.2],\n",
    "        [4.5, 6.9, 4.4],\n",
    "    ],\n",
    "    metadatas=[\n",
    "        {\"uri\": \"img1.png\", \"style\": \"style1\"},\n",
    "        {\"uri\": \"img2.png\", \"style\": \"style2\"},\n",
    "        {\"uri\": \"img3.png\", \"style\": \"style1\"},\n",
    "        {\"uri\": \"img4.png\", \"style\": \"style1\"},\n",
    "        {\"uri\": \"img5.png\", \"style\": \"style1\"},\n",
    "        {\"uri\": \"img6.png\", \"style\": \"style1\"},\n",
    "        {\"uri\": \"img7.png\", \"style\": \"style1\"},\n",
    "        {\"uri\": \"img8.png\", \"style\": \"style1\"},\n",
    "    ],\n",
    "    documents=[\"doc1\", \"doc2\", \"doc3\", \"doc4\", \"doc5\", \"doc6\", \"doc7\", \"doc8\"],\n",
    "    ids=[\"id1\", \"id2\", \"id3\", \"id4\", \"id5\", \"id6\", \"id7\", \"id8\"],\n",
    ")"
   ]
  },
  {
   "cell_type": "code",
   "execution_count": null,
   "id": "35d91029-f6a5-4cff-8acf-4396d6c99af6",
   "metadata": {},
   "outputs": [],
   "source": [
    "query_result = collection.query(query_embeddings=[[1.1, 2.3, 3.2], [5.1, 4.3, 2.2]], n_results=2)"
   ]
  },
  {
   "cell_type": "code",
   "execution_count": null,
   "id": "31160ec4-1130-4465-8e1b-87bc1c0149d3",
   "metadata": {},
   "outputs": [],
   "source": [
    "query_result"
   ]
  },
  {
   "cell_type": "markdown",
   "id": "5957b0b1-8407-46dd-968e-e140b441e29f",
   "metadata": {},
   "source": [
    "## Reuse the local vector"
   ]
  },
  {
   "cell_type": "code",
   "execution_count": 2,
   "id": "434f9e38-5994-40f6-916f-7c0bdfdfb2eb",
   "metadata": {},
   "outputs": [],
   "source": [
    "import chromadb\n",
    "from chromadb.config import DEFAULT_TENANT, DEFAULT_DATABASE, Settings\n",
    "\n",
    "client = chromadb.PersistentClient(\n",
    "    path=\"test\",\n",
    "    settings=Settings(),\n",
    "    tenant=DEFAULT_TENANT,\n",
    "    database=DEFAULT_DATABASE,\n",
    ")\n",
    "\n",
    "# get the collection test\n",
    "collection = client.get_or_create_collection(\"test\")\n"
   ]
  },
  {
   "cell_type": "code",
   "execution_count": 3,
   "id": "82f5df31-c874-4e69-8eba-d696a498bf9c",
   "metadata": {},
   "outputs": [],
   "source": [
    "# find directly the vectors\n",
    "query_result = collection.query(query_embeddings=[[1.1, 2.3, 3.2], [5.1, 4.3, 2.2]], n_results=2)"
   ]
  },
  {
   "cell_type": "code",
   "execution_count": 4,
   "id": "1fd8bdc9-3825-46e8-bedc-7dda9f7c3ff7",
   "metadata": {},
   "outputs": [
    {
     "data": {
      "text/plain": [
       "{'ids': [['id1', 'id3'], ['id2', 'id8']],\n",
       " 'distances': [[5.1159076593562386e-15, 5.1159076593562386e-15],\n",
       "  [11.960000915527363, 11.960000915527363]],\n",
       " 'metadatas': [[{'style': 'style1', 'uri': 'img1.png'},\n",
       "   {'style': 'style1', 'uri': 'img3.png'}],\n",
       "  [{'style': 'style2', 'uri': 'img2.png'},\n",
       "   {'style': 'style1', 'uri': 'img8.png'}]],\n",
       " 'embeddings': None,\n",
       " 'documents': [['doc1', 'doc3'], ['doc2', 'doc8']],\n",
       " 'uris': None,\n",
       " 'data': None}"
      ]
     },
     "execution_count": 4,
     "metadata": {},
     "output_type": "execute_result"
    }
   ],
   "source": [
    "query_result"
   ]
  }
 ],
 "metadata": {
  "kernelspec": {
   "display_name": "Python 3 (ipykernel)",
   "language": "python",
   "name": "python3"
  },
  "language_info": {
   "codemirror_mode": {
    "name": "ipython",
    "version": 3
   },
   "file_extension": ".py",
   "mimetype": "text/x-python",
   "name": "python",
   "nbconvert_exporter": "python",
   "pygments_lexer": "ipython3",
   "version": "3.10.13"
  }
 },
 "nbformat": 4,
 "nbformat_minor": 5
}
