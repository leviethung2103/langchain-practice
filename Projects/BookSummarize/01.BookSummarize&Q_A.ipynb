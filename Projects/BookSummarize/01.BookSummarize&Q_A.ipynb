{
 "cells": [
  {
   "cell_type": "code",
   "execution_count": 2,
   "id": "0a4d8b06-6c79-43fc-83f7-a11842768a72",
   "metadata": {},
   "outputs": [],
   "source": [
    "%load_ext dotenv\n",
    "%dotenv"
   ]
  },
  {
   "cell_type": "markdown",
   "id": "a3f205a2-fb08-4002-83ab-8ed6a1744d1d",
   "metadata": {},
   "source": [
    "## Demo\n",
    "\n",
    "For demo stration purpose, i only use the first 20 pages."
   ]
  },
  {
   "cell_type": "code",
   "execution_count": 9,
   "id": "21448499-b5ae-41b7-9831-d3912ae274f3",
   "metadata": {
    "scrolled": true
   },
   "outputs": [
    {
     "name": "stdout",
     "output_type": "stream",
     "text": [
      "Collecting fitz\n",
      "  Downloading fitz-0.0.1.dev2-py2.py3-none-any.whl.metadata (816 bytes)\n",
      "Collecting configobj (from fitz)\n",
      "  Downloading configobj-5.0.8-py2.py3-none-any.whl.metadata (3.4 kB)\n",
      "Collecting configparser (from fitz)\n",
      "  Using cached configparser-7.0.0-py3-none-any.whl.metadata (5.4 kB)\n",
      "Collecting httplib2 (from fitz)\n",
      "  Using cached httplib2-0.22.0-py3-none-any.whl.metadata (2.6 kB)\n",
      "Collecting nibabel (from fitz)\n",
      "  Downloading nibabel-5.2.1-py3-none-any.whl.metadata (8.8 kB)\n",
      "Collecting nipype (from fitz)\n",
      "  Downloading nipype-1.8.6-py3-none-any.whl.metadata (6.6 kB)\n",
      "Requirement already satisfied: numpy in /home/hunglv/miniconda3/envs/llm_py310/lib/python3.10/site-packages (from fitz) (1.26.4)\n",
      "Requirement already satisfied: pandas in /home/hunglv/miniconda3/envs/llm_py310/lib/python3.10/site-packages (from fitz) (2.2.0)\n",
      "Collecting pyxnat (from fitz)\n",
      "  Downloading pyxnat-1.6.2-py3-none-any.whl.metadata (5.3 kB)\n",
      "Requirement already satisfied: scipy in /home/hunglv/miniconda3/envs/llm_py310/lib/python3.10/site-packages (from fitz) (1.12.0)\n",
      "Requirement already satisfied: six in /home/hunglv/miniconda3/envs/llm_py310/lib/python3.10/site-packages (from configobj->fitz) (1.16.0)\n",
      "Requirement already satisfied: pyparsing!=3.0.0,!=3.0.1,!=3.0.2,!=3.0.3,<4,>=2.4.2 in /home/hunglv/miniconda3/envs/llm_py310/lib/python3.10/site-packages (from httplib2->fitz) (3.1.1)\n",
      "Requirement already satisfied: packaging>=17 in /home/hunglv/miniconda3/envs/llm_py310/lib/python3.10/site-packages (from nibabel->fitz) (23.2)\n",
      "Requirement already satisfied: click>=6.6.0 in /home/hunglv/miniconda3/envs/llm_py310/lib/python3.10/site-packages (from nipype->fitz) (8.1.7)\n",
      "Requirement already satisfied: networkx>=2.0 in /home/hunglv/miniconda3/envs/llm_py310/lib/python3.10/site-packages (from nipype->fitz) (3.2.1)\n",
      "Collecting prov>=1.5.2 (from nipype->fitz)\n",
      "  Downloading prov-2.0.1-py3-none-any.whl.metadata (3.6 kB)\n",
      "Collecting pydot>=1.2.3 (from nipype->fitz)\n",
      "  Downloading pydot-3.0.1-py3-none-any.whl.metadata (9.9 kB)\n",
      "Requirement already satisfied: python-dateutil>=2.2 in /home/hunglv/miniconda3/envs/llm_py310/lib/python3.10/site-packages (from nipype->fitz) (2.8.2)\n",
      "Collecting rdflib>=5.0.0 (from nipype->fitz)\n",
      "  Downloading rdflib-7.0.0-py3-none-any.whl.metadata (11 kB)\n",
      "Collecting simplejson>=3.8.0 (from nipype->fitz)\n",
      "  Downloading simplejson-3.19.2-cp310-cp310-manylinux_2_5_x86_64.manylinux1_x86_64.manylinux_2_17_x86_64.manylinux2014_x86_64.whl.metadata (3.1 kB)\n",
      "Collecting traits!=5.0,<6.4,>=4.6 (from nipype->fitz)\n",
      "  Downloading traits-6.3.2-cp310-cp310-manylinux_2_5_x86_64.manylinux1_x86_64.manylinux_2_12_x86_64.manylinux2010_x86_64.whl.metadata (4.9 kB)\n",
      "Requirement already satisfied: filelock>=3.0.0 in /home/hunglv/miniconda3/envs/llm_py310/lib/python3.10/site-packages (from nipype->fitz) (3.13.1)\n",
      "Collecting etelemetry>=0.2.0 (from nipype->fitz)\n",
      "  Downloading etelemetry-0.3.1-py3-none-any.whl.metadata (3.2 kB)\n",
      "Collecting looseversion (from nipype->fitz)\n",
      "  Downloading looseversion-1.3.0-py2.py3-none-any.whl.metadata (4.6 kB)\n",
      "Requirement already satisfied: pytz>=2020.1 in /home/hunglv/miniconda3/envs/llm_py310/lib/python3.10/site-packages (from pandas->fitz) (2024.1)\n",
      "Requirement already satisfied: tzdata>=2022.7 in /home/hunglv/miniconda3/envs/llm_py310/lib/python3.10/site-packages (from pandas->fitz) (2024.1)\n",
      "Requirement already satisfied: lxml>=4.3 in /home/hunglv/miniconda3/envs/llm_py310/lib/python3.10/site-packages (from pyxnat->fitz) (5.1.0)\n",
      "Requirement already satisfied: requests>=2.20 in /home/hunglv/miniconda3/envs/llm_py310/lib/python3.10/site-packages (from pyxnat->fitz) (2.31.0)\n",
      "Collecting pathlib>=1.0 (from pyxnat->fitz)\n",
      "  Downloading pathlib-1.0.1-py3-none-any.whl.metadata (5.1 kB)\n",
      "Collecting ci-info>=0.2 (from etelemetry>=0.2.0->nipype->fitz)\n",
      "  Downloading ci_info-0.3.0-py3-none-any.whl.metadata (6.1 kB)\n",
      "Collecting rdflib>=5.0.0 (from nipype->fitz)\n",
      "  Downloading rdflib-6.3.2-py3-none-any.whl.metadata (11 kB)\n",
      "Collecting isodate<0.7.0,>=0.6.0 (from rdflib>=5.0.0->nipype->fitz)\n",
      "  Downloading isodate-0.6.1-py2.py3-none-any.whl.metadata (9.6 kB)\n",
      "Requirement already satisfied: charset-normalizer<4,>=2 in /home/hunglv/miniconda3/envs/llm_py310/lib/python3.10/site-packages (from requests>=2.20->pyxnat->fitz) (3.3.2)\n",
      "Requirement already satisfied: idna<4,>=2.5 in /home/hunglv/miniconda3/envs/llm_py310/lib/python3.10/site-packages (from requests>=2.20->pyxnat->fitz) (3.7)\n",
      "Requirement already satisfied: urllib3<3,>=1.21.1 in /home/hunglv/miniconda3/envs/llm_py310/lib/python3.10/site-packages (from requests>=2.20->pyxnat->fitz) (2.2.2)\n",
      "Requirement already satisfied: certifi>=2017.4.17 in /home/hunglv/miniconda3/envs/llm_py310/lib/python3.10/site-packages (from requests>=2.20->pyxnat->fitz) (2024.2.2)\n",
      "Downloading fitz-0.0.1.dev2-py2.py3-none-any.whl (20 kB)\n",
      "Downloading configobj-5.0.8-py2.py3-none-any.whl (36 kB)\n",
      "Using cached configparser-7.0.0-py3-none-any.whl (16 kB)\n",
      "Using cached httplib2-0.22.0-py3-none-any.whl (96 kB)\n",
      "Downloading nibabel-5.2.1-py3-none-any.whl (3.3 MB)\n",
      "\u001b[2K   \u001b[38;2;114;156;31m━━━━━━━━━━━━━━━━━━━━━━━━━━━━━━━━━━━━━━━━\u001b[0m \u001b[32m3.3/3.3 MB\u001b[0m \u001b[31m388.4 kB/s\u001b[0m eta \u001b[36m0:00:00\u001b[0mm eta \u001b[36m0:00:01\u001b[0m[36m0:00:01\u001b[0m\n",
      "\u001b[?25hDownloading nipype-1.8.6-py3-none-any.whl (3.2 MB)\n",
      "\u001b[2K   \u001b[38;2;114;156;31m━━━━━━━━━━━━━━━━━━━━━━━━━━━━━━━━━━━━━━━━\u001b[0m \u001b[32m3.2/3.2 MB\u001b[0m \u001b[31m1.4 MB/s\u001b[0m eta \u001b[36m0:00:00\u001b[0mm eta \u001b[36m0:00:01\u001b[0m0:01\u001b[0m:01\u001b[0m\n",
      "\u001b[?25hDownloading pyxnat-1.6.2-py3-none-any.whl (95 kB)\n",
      "\u001b[2K   \u001b[38;2;114;156;31m━━━━━━━━━━━━━━━━━━━━━━━━━━━━━━━━━━━━━━━━\u001b[0m \u001b[32m95.6/95.6 kB\u001b[0m \u001b[31m666.3 kB/s\u001b[0m eta \u001b[36m0:00:00\u001b[0m1m2.6 MB/s\u001b[0m eta \u001b[36m0:00:01\u001b[0m\n",
      "\u001b[?25hDownloading etelemetry-0.3.1-py3-none-any.whl (6.4 kB)\n",
      "Downloading pathlib-1.0.1-py3-none-any.whl (14 kB)\n",
      "Downloading prov-2.0.1-py3-none-any.whl (421 kB)\n",
      "\u001b[2K   \u001b[38;2;114;156;31m━━━━━━━━━━━━━━━━━━━━━━━━━━━━━━━━━━━━━━━━\u001b[0m \u001b[32m421.5/421.5 kB\u001b[0m \u001b[31m1.7 MB/s\u001b[0m eta \u001b[36m0:00:00\u001b[0mm eta \u001b[36m0:00:01\u001b[0m[36m0:00:01\u001b[0m\n",
      "\u001b[?25hDownloading pydot-3.0.1-py3-none-any.whl (22 kB)\n",
      "Downloading rdflib-6.3.2-py3-none-any.whl (528 kB)\n",
      "\u001b[2K   \u001b[38;2;114;156;31m━━━━━━━━━━━━━━━━━━━━━━━━━━━━━━━━━━━━━━━━\u001b[0m \u001b[32m528.1/528.1 kB\u001b[0m \u001b[31m1.7 MB/s\u001b[0m eta \u001b[36m0:00:00\u001b[0mm eta \u001b[36m0:00:01\u001b[0m0:01\u001b[0m01\u001b[0m\n",
      "\u001b[?25hDownloading simplejson-3.19.2-cp310-cp310-manylinux_2_5_x86_64.manylinux1_x86_64.manylinux_2_17_x86_64.manylinux2014_x86_64.whl (137 kB)\n",
      "\u001b[2K   \u001b[38;2;114;156;31m━━━━━━━━━━━━━━━━━━━━━━━━━━━━━━━━━━━━━━━\u001b[0m \u001b[32m137.9/137.9 kB\u001b[0m \u001b[31m655.5 kB/s\u001b[0m eta \u001b[36m0:00:00\u001b[0m31m2.7 MB/s\u001b[0m eta \u001b[36m0:00:01\u001b[0m\n",
      "\u001b[?25hDownloading traits-6.3.2-cp310-cp310-manylinux_2_5_x86_64.manylinux1_x86_64.manylinux_2_12_x86_64.manylinux2010_x86_64.whl (5.1 MB)\n",
      "\u001b[2K   \u001b[38;2;114;156;31m━━━━━━━━━━━━━━━━━━━━━━━━━━━━━━━━━━━━━━━━\u001b[0m \u001b[32m5.1/5.1 MB\u001b[0m \u001b[31m2.5 MB/s\u001b[0m eta \u001b[36m0:00:00\u001b[0mm eta \u001b[36m0:00:01\u001b[0m[36m0:00:01\u001b[0m\n",
      "\u001b[?25hDownloading looseversion-1.3.0-py2.py3-none-any.whl (8.2 kB)\n",
      "Downloading ci_info-0.3.0-py3-none-any.whl (7.8 kB)\n",
      "Downloading isodate-0.6.1-py2.py3-none-any.whl (41 kB)\n",
      "\u001b[2K   \u001b[38;2;114;156;31m━━━━━━━━━━━━━━━━━━━━━━━━━━━━━━━━━━━━━━━━\u001b[0m \u001b[32m41.7/41.7 kB\u001b[0m \u001b[31m334.0 kB/s\u001b[0m eta \u001b[36m0:00:00\u001b[0m36m0:00:01\u001b[0m\n",
      "\u001b[?25hInstalling collected packages: pathlib, looseversion, traits, simplejson, pydot, nibabel, isodate, httplib2, configparser, configobj, ci-info, rdflib, pyxnat, etelemetry, prov, nipype, fitz\n",
      "Successfully installed ci-info-0.3.0 configobj-5.0.8 configparser-7.0.0 etelemetry-0.3.1 fitz-0.0.1.dev2 httplib2-0.22.0 isodate-0.6.1 looseversion-1.3.0 nibabel-5.2.1 nipype-1.8.6 pathlib-1.0.1 prov-2.0.1 pydot-3.0.1 pyxnat-1.6.2 rdflib-6.3.2 simplejson-3.19.2 traits-6.3.2\n"
     ]
    }
   ],
   "source": [
    "!pip install fitz"
   ]
  },
  {
   "cell_type": "code",
   "execution_count": 11,
   "id": "a4d4731a-d8c3-4e5a-9448-4de5afd98f37",
   "metadata": {},
   "outputs": [
    {
     "name": "stdout",
     "output_type": "stream",
     "text": [
      "Collecting PyMuPDF\n",
      "  Downloading PyMuPDF-1.24.7-cp310-none-manylinux2014_x86_64.whl.metadata (3.4 kB)\n",
      "Collecting PyMuPDFb==1.24.6 (from PyMuPDF)\n",
      "  Downloading PyMuPDFb-1.24.6-py3-none-manylinux2014_x86_64.manylinux_2_17_x86_64.whl.metadata (1.4 kB)\n",
      "Downloading PyMuPDF-1.24.7-cp310-none-manylinux2014_x86_64.whl (3.5 MB)\n",
      "\u001b[2K   \u001b[38;2;114;156;31m━━━━━━━━━━━━━━━━━━━━━━━━━━━━━━━━━━━━━━━━\u001b[0m \u001b[32m3.5/3.5 MB\u001b[0m \u001b[31m730.0 kB/s\u001b[0m eta \u001b[36m0:00:00\u001b[0mm eta \u001b[36m0:00:01\u001b[0m[36m0:00:01\u001b[0m\n",
      "\u001b[?25hDownloading PyMuPDFb-1.24.6-py3-none-manylinux2014_x86_64.manylinux_2_17_x86_64.whl (15.7 MB)\n",
      "\u001b[2K   \u001b[38;2;114;156;31m━━━━━━━━━━━━━━━━━━━━━━━━━━━━━━━━━━━━━━━━\u001b[0m \u001b[32m15.7/15.7 MB\u001b[0m \u001b[31m2.7 MB/s\u001b[0m eta \u001b[36m0:00:00\u001b[0mm eta \u001b[36m0:00:01\u001b[0m[36m0:00:01\u001b[0m\n",
      "\u001b[?25hInstalling collected packages: PyMuPDFb, PyMuPDF\n",
      "Successfully installed PyMuPDF-1.24.7 PyMuPDFb-1.24.6\n"
     ]
    }
   ],
   "source": [
    "! pip install PyMuPDF"
   ]
  },
  {
   "cell_type": "code",
   "execution_count": 12,
   "id": "d7e1fa7a-68f2-4abf-a750-342a36419288",
   "metadata": {},
   "outputs": [],
   "source": [
    "from langfuse.decorators import observe\n",
    "from langfuse.openai import openai # OpenAI integration\n",
    "from langfuse import Langfuse\n",
    "import os \n",
    "import fitz\n",
    "from langchain.document_loaders import PyMuPDFLoader"
   ]
  },
  {
   "cell_type": "code",
   "execution_count": 13,
   "id": "547bc897-d870-4990-a966-0a4708d3f9ab",
   "metadata": {},
   "outputs": [],
   "source": [
    "langfuse = Langfuse(\n",
    "  secret_key=os.environ.get(\"LANGFUSE_SECRET_KEY\"),\n",
    "  public_key=os.environ.get(\"LANGFUSE_PUBLIC_KEY\"),\n",
    "  host=os.environ.get(\"LANGFUSE_HOST\")\n",
    ")"
   ]
  },
  {
   "cell_type": "code",
   "execution_count": 23,
   "id": "913d2914-1636-4412-b332-a75858fefe0f",
   "metadata": {},
   "outputs": [],
   "source": [
    "PDF_PATH = \"8708-chicken-soup-for-the-soul-tap-1-chia-se-tam-hon-va-qua-tang-cuoc-song-thuviensach.vn.pdf\"\n",
    "\n",
    "def extract_pages(pdf_path, no_pages=20):\n",
    "    # Open the PDF file\n",
    "    pdf_document = fitz.open(pdf_path)\n",
    "    \n",
    "    # Initialize a list to store the pages' text\n",
    "    pages_text = []\n",
    "    \n",
    "    # Loop through the first 20 pages (or the total number of pages if less than 20)\n",
    "    for page_num in range(min(no_pages, pdf_document.page_count)):\n",
    "        page = pdf_document.load_page(page_num)\n",
    "        pages_text.append(page.get_text())\n",
    "    \n",
    "    # Close the PDF file\n",
    "    pdf_document.close()\n",
    "    \n",
    "    return pages_text\n",
    "\n",
    "texts = extract_pages(PDF_PATH,20)"
   ]
  },
  {
   "cell_type": "code",
   "execution_count": 24,
   "id": "7702f726-0216-4821-986f-5cc814a0a241",
   "metadata": {},
   "outputs": [
    {
     "data": {
      "text/plain": [
       "20"
      ]
     },
     "execution_count": 24,
     "metadata": {},
     "output_type": "execute_result"
    }
   ],
   "source": [
    "len(texts)"
   ]
  },
  {
   "cell_type": "code",
   "execution_count": 25,
   "id": "e3359dbd-354c-4b8b-93b1-9fa65a636f81",
   "metadata": {},
   "outputs": [],
   "source": [
    "from langchain_openai import ChatOpenAI\n",
    "from langchain.prompts.prompt import PromptTemplate\n",
    "from langchain_core.tools import Tool\n",
    "from langchain.agents import create_react_agent, AgentExecutor\n",
    "from langchain_text_splitters import CharacterTextSplitter\n",
    "from langchain import hub\n",
    "import os\n",
    "from langchain_openai.embeddings.base import OpenAIEmbeddings\n",
    "from langchain_community.document_loaders import ReadTheDocsLoader\n",
    "from langchain_community.document_loaders import TextLoader\n",
    "from langchain_community.vectorstores import FAISS\n",
    "from langchain.chains.combine_documents import create_stuff_documents_chain\n",
    "from langchain.chains.retrieval import create_retrieval_chain"
   ]
  },
  {
   "cell_type": "markdown",
   "id": "d9993095-9968-4e53-8b45-46dcba8002d1",
   "metadata": {},
   "source": [
    "## Text Splitter\n",
    "\n",
    "1. Create text splitter\n",
    "2. Create the documents from list of string\n",
    "\n",
    "We need to do that because the retrieval need to get page_content from each element."
   ]
  },
  {
   "cell_type": "code",
   "execution_count": 26,
   "id": "1c6c8069-1b55-4129-b07c-0e55439a560e",
   "metadata": {
    "scrolled": true
   },
   "outputs": [],
   "source": [
    "# create text splitter\n",
    "\n",
    "text_splitter = CharacterTextSplitter(chunk_size=600, chunk_overlap=50, separator=\"\\n\\n\",)\n",
    "texts = text_splitter.create_documents(texts)"
   ]
  },
  {
   "cell_type": "code",
   "execution_count": 27,
   "id": "b69a0ec8-1218-413f-b25e-ef6e94f7df41",
   "metadata": {
    "scrolled": true
   },
   "outputs": [
    {
     "data": {
      "text/plain": [
       "[Document(page_content='Cùng bạn đọc\\nEbook miễn phí tại : www.Sachvui.Com\\nSau khi thực hiện các tập Hạt Giống Tâm Hồn và những cuốn sách chia sẻ\\nvề cuộc sống, First News đã nhận được sự đón nhận và đồng cảm sâu sắc\\ncủa đông đảo bạn đọc khắp nơi. Chúng tôi nhận ra rằng sự chia sẻ về tâm\\nhồn là một điều thực sự ý nghĩa trong cuộc sống hiện nay, giúp chúng ta\\nvượt qua những nỗi buồn, những thất vọng để hướng đến một ngày mai tươi\\nđẹp hơn với những ước mơ, hoài bão của mình và cảm nhận cuộc sống trọn\\nvẹn hơn.\\nTrên tinh thần đó, First News tiếp tục giới thiệu đến các bạn những câu\\nchuyện hay được chọn lọc từ bộ sách Chicken Soup for the Soul nổi tiếng\\ncủa hai tác giả Jack Canfield và Mark Victor Hansen.\\nĐây là lần đầu tiên bộ sách Chicken Soup for the Soul được trình bày dưới\\ndạng song ngữ để bạn đọc có thể cảm nhận được ý nghĩa câu chuyện bằng cả\\nhai ngôn ngữ. Việc chuyển tải trọn vẹn và chính xác ý nghĩa sâu sắc của\\nnhững câu chuyện theo nguyên bản tiếng Anh là một cố gắng lớn của chúng\\ntôi. Rất mong nhận được những ý kiến đóng góp của bạn đọc để những tập\\nsách tiếp theo của chúng tôi hoàn thiện hơn.\\nMong rằng cuốn sách này sẽ là người bạn đồng hành với bạn trong cuộc\\nsống.\\n- First News'),\n",
       " Document(page_content='The Power of the Stories\\nIt takes only one story to...\\nInspire a new day\\nCreate a bond\\nAlter a path\\nHeal a heart\\nMend a rift\\nRescue a soul\\nTransform a relationship\\nLive a dream\\nSave a life.\\nOne story can change your life.'),\n",
       " Document(page_content='Sức mạnh những câu chuyện\\nĐôi khi chỉ cần một câu chuyện để...\\nTruyền cảm hứng một ngày mới\\nXây dựng mối thân tình\\nThay đổi một hướng đi\\nChữa lành một trái tim\\nHàn gắn một vết rạn vỡ\\nSống dậy một tâm hồn\\nChuyển biến một mối quan hệ\\nNuôi dưỡng một ước mơ\\nCứu một cuộc đời.\\nMột câu chuyện có thể làm thay đổi cuộc đời bạn.\\n“Mỗi câu chuyện là một thông điệp có thể hàn gắn vết thương, làm thay đổi\\nsuy nghĩ, tâm hồn và đôi khi, cả cuộc đời bạn. Chúng tôi thật sự tin rằng\\nnhững câu chuyện này sẽ làm nên điều khác biệt, mang lại nguồn cảm hứng\\nvô tận cho bạn, vì chính cuộc sống tinh thần của chúng tôi cũng tốt hơn sau\\nmỗi lần đọc một câu chuyện hay. Một khi đã được truyền cảm hứng, bạn đều\\ncó thể đem đến những điều tốt đẹp cho bản thân mình và những người xung\\nquanh.”'),\n",
       " Document(page_content='Về tác giả và sự ra đời của Chicken\\nSoup for the Soul\\nJack Canfield là một diễn thuyết gia nổi tiếng người Mỹ, tốt nghiệp Đại học\\nHarvard, nhận bằng cao học của Đại học Massachusetts và học vị tiến sĩ của\\nĐại học Santa Monica. Với kiến thức sâu rộng, cách nói chuyện thuyết phục\\nvà lôi cuốn, ông đã giúp rất nhiều người khám phá sức mạnh bản thân để\\ntheo đuổi và thực hiện ước mơ của mình. Trong suốt 25 năm qua, ông đã\\nthực hiện nhiều buổi nói chuyện với những tập đoàn lớn như: Virgin\\nRecords, Sony Pictures, Merrill Lynch, Federal Express, Sonic Burger,\\nIncome Builders \\nInternational...\\nMark Victor Hansen cũng là một diễn thuyết gia rất tâm huyết. Ông đã thực\\nhiện hơn 4 ngàn buổi nói chuyện cho hơn 2 triệu thính giả ở 32 quốc gia về\\nnhững đề tài liên quan đến cuộc sống, tìm kiếm sức mạnh tinh thần và phát\\ntriển nội tâm, chiến lược kinh doanh và hiệu quả trong công việc. Ông nhiều\\nlần được mời nói chuyện trên các đài truyền hình và phát thanh nổi tiếng\\nnhư: ABC, CBS, PBS, CNN... và hiện đang là một trong những nhân vật\\nđược khán thính giả yêu thích nhất.\\nSỰ RA ĐỜI CỦA “CHICKEN SOUP FOR THE SOUL”:\\nTrong những buổi diễn thuyết của mình, Jack Canfield và Mark Victor\\nHansen thường tiếp cận với thính giả bằng những câu chuyện có thật, xúc\\nđộng và ý nghĩa, có tác dụng động viên tinh thần, giúp mọi người có thể cảm\\nnhận sâu sắc được những ý tưởng và tinh thần của buổi nói chuyện.\\nSau những lần như vậy, thính giả ở khắp mọi nơi mong muốn được đọc và\\nlưu giữ những câu chuyện thú vị ấy. Một số người đề nghị Jack và Mark tập\\nhợp những câu chuyện thành một quyển sách. Đến năm 1990, họ mới bắt tay\\nvào thực hiện ý tưởng này. Nhưng việc chuyển những câu chuyện kể thành\\nmột quyển sách không đơn giản như họ từng nghĩ. Hai người gặp rất nhiều\\nkhó khăn, nhất là trong quá trình biên tập các bài viết. Sau 3 năm làm việc\\nmiệt mài, cả hai chỉ mới tổng hợp được 68 câu chuyện, còn quá ít so với con\\nsố 101 câu chuyện - con số mà họ tin là sẽ tạo nên dấu ấn cho sự thành công\\ncủa một quyển sách.\\nJack và Mark quyết định tìm đến các nhà diễn thuyết khác để thu thập thêm'),\n",
       " Document(page_content='câu chuyện bổ sung vào quyển sách. Cách này giúp cả hai đã có được nhiều\\ncâu chuyện hay và cảm động từ những con người bình thường nhưng có thể\\nvượt lên làm được điều phi thường.\\nMột lần nữa, Jack và Mark tiếp tục nhờ 40 nhà diễn thuyết chuyên nghiệp\\nkhác đọc và thẩm định từng câu chuyện, và cho thang điểm từ 1 đến 10 về\\ntính chân thực, gây xúc động và có giá trị động viên tinh thần. Sau cùng, 101\\ncâu chuyện có điểm cao nhất đã được tuyển chọn.\\nThế nhưng quyển sách này vẫn chưa có tên. Cả hai sớm nhận thấy rằng\\nchính tên quyển sách góp phần rất lớn vào sự thu hút bạn đọc. Jack nhớ lạ i\\nnhững lần bị ốm, ông thường được ăn xúp gà do mẹ nấu. Mẹ Jack nói loại\\nxúp này có thể giúp phục hồi sức khỏe cho những người đang đau yếu. Một\\ný tưởng bừng sáng trong Jack. Quyển sách này cũng có tác dụng chữa lành\\nnhững bệnh, không phải cho cơ thể như xúp gà đơn thuần mà cho tâm hồn\\ncon người. Tên sách “Chicken Soup for the Soul” ra đời từ đó và nhanh\\nchóng trở nên nổi tiếng khắp thế giới.\\nKHÔNG TỪ BỎ ƯỚC MƠ\\nĐể quyển sách đến được với mọi người, việc đầu tiên là phải thuyết phục\\nmột Nhà Xuất Bản đồng ý in.\\nNhà xuất bản đầu tiên đọc xong và ghi nắn nót trên bản thảo: \"Gửi trả.\\nKhông hợp tác! Đề tài quá bình thường\".\\nNhà xuất bản thứ hai trả lời \"Không có ý tưởng gì lạ cả, những chuyện này ai\\nmà chẳng biết, ai mà chẳng trải qua những chuyện tương tự như vậy\".\\nNhà xuất bản thứ ba nhận xét: \"Sức bán hạn chế -sách này chỉ dành cho\\nnhững người thần kinh có vấn đề .”\\nNhà xuất bản thứ ba mươi cũng vậy. Kết quả tệ hại này nằm ngoài dự kiến\\nvà sức tưởng tượng của hai người. Jack và Mark đã phải chịu đựng đến 33\\nlần từ chối trong 3 năm đi khắp nơi gửi bản thảo chứ không phải chỉ trong\\nvài ba tháng như dự kiến. Có những lúc tưởng chừng như đã bỏ cuộc nhưng\\nhọ vẫn cố gắng vượt qua và quyết tâm kiên trì đến cùng.\\nNăm 1992, Jack và Mark tham dự Hội thảo Nghiệp đoàn Bán sách Hoa Kỳ\\n(American Booksellers\\' Association Convention). Tại đây, hai người đi từ\\ngian hàng này đến gian hàng khác, trò chuyện với các biên tập viên, và chia\\nsẻ quan điểm của họ về những giá trị tinh thần sâu sắc mà quyển sách này sẽ'),\n",
       " Document(page_content='mang lại. Hai người nhấn mạnh rằng những câu chuyện trong quyển sách sẽ\\ngiúp mọi người rộng mở trái tim, nhận thức được những giá trị tinh thần và\\nduy trì lòng can đảm để theo đuổi ước mơ, khát vọng của mình. Sau đó, bản\\nthảo đã được gửi đến Peter Vegso, Chủ tịch Tập đoàn Xuất bản Health\\nCommunications. May mắn thay Peter Vegso sớm nhận ra giá trị tiềm ẩn của\\nquyển sách và đồng ý xuất bản ngay.\\nTrải qua chặng đường gian nan, đến ngày 28/6/1993, quyể n “Chicken Soup\\nfor the Soul” đầ u tiên đã ra đời và trở thành món quà mừng Giáng sinh và\\nnăm mới đượ yêu thích nhất lúc bấy giờ . Những ai mua một quyển sách đều\\nquay lại mua thêm nhiều quyển nữa để làm quà tặng người thân và bạn bè .\\nKhắp nơi ai cũng nói về quyển sách của \"một loại xúp kỳ diệu cho tâm hồn\".\\nMọi người kể lại cho nhau nghe những câu chuyện trong sách mỗi khi ai đó\\ncó vấn đề tương tự . Quyển sách đã thật sự tạo nên một cơn sốt và hiện tượng\\ntrong ngành xuất bản.\\nCHINH PHỤC THẾ GIỚI\\nĐến tháng 9 năm 1994, “Chicken Soup for the Soul” đã nằm trong danh sách\\nsách bán chạy nhất theo bình chọn của thời báo New York Times, The\\nWashington Post, Publishers Weekly, USA Today và thêm 5 tờ báo có uy tín\\ncủa Canada.\\nĐầu năm 1995, “Chicken Soup for the Soul” đạt giải thưởng ABBY\\n(American Bestseller\\'s Book of the Year) - một giải thưởng có danh tiếng,\\nđược bình chọn bởi khách hàng của các hệ thống phát hành sách toàn nước\\nMỹ.\\nCuối năm 1995, “Chicken Soup for the Soul” tiếp tục nhận giải thưởng\\n“Quyển sách trong năm - Book of the Year” do tạp chí Body, Mind & Soul\\nbình chọn.\\nNăm 1996, bộ sách “Chicken Soup for the Soul” đã được American Family\\nInstitute trao giải thưởng \"Non-Fiction Literacy Award\". Riêng quyển\\n“Condensed Chicken Soup for the Soul” và “A Cup of Chicken Soup for the\\nSoul” được trao giải \"Story Teller World Award\" cho bộ tuyển chọn những\\ncâu chuyện hay nhất được độc giả bình chọn.\\nTrong hai năm 1997 và 1998, Jack Canfield và Mark Victor Hansen đã liên\\ntục giữ vị trí “Tác Giả Có Sách Bán Chạy Nhất Trong Năm - The Best-\\nSelling Authors of the Year”.'),\n",
       " Document(page_content='Và vào ngày 24/5/1998, Jack và Mark đã được ghi tên vào bộ sách kỷ lục thế\\ngiới Guinness là tác giả được yêu thích nhất có cùng lúc 7 tựa sách trong bộ\\n“Chicken Soup for the Soul” được thời báo New York Timesbình chọn là\\nnhững sách bán chạy nhất.\\nNgày nay, bất cứ ai cũng biết đến cái tên “Chicken Soup for the Soul”. Mọi\\nngười chuyền tay nhau, gửi e-mail, kể cho nhau và bình luận những câu\\nchuyện trích từ bộ sách này. Và “Chicken Soup for the Soul” đã trở thành\\nmột thương hiệu lớn có giá trị không chỉ về mặt thương mại mà còn ở tính\\nnhân văn cao đẹp. Ở Mỹ, người ta gọi nó là “A Billion Dollar Brand”\\n(Thương hiệu trị giá hàng tỉ đô la). Thông qua những câu chuyện trong bộ\\nsách này, bạn có thể tìm lại chính mình, có thêm niềm tin, nghị lực để thực\\nhiện những ước mơ, khát vọng, biết chia sẻ và đồng cảm với nỗi đau của\\nnhững người xung quanh, tìm lại được những giá trị đích thực của cuộc\\nsống. Đó chính là điều giúp bộ sách “Chicken Soup for the Soul” tồn tại mãi\\nvới thời gian và trong lòng mọi người.\\n“CHICKEN SOUP FOR THE SOUL”\\nCÁI TÊN THÂN QUEN VỚI TẤT CẢ MỌI NGƯỜI\\n- MỘT THƯƠNG HIỆU TRỊ GIÁ HÀNG TỈ ĐÔ LA\\nSố lượng sách đã bán:\\n85 triệu bản\\nĐược dịch sang:\\n37 ngôn ngữ\\n(Việt Nam là ngôn ngữ thứ 38)\\nSố tiền ủng hộ từ thiện:\\nhơn 8.5 tỉ đô la\\nSố tựa sách bán chạy nhất theo bình chọn\\ncủa New York Times:\\n11 tựa sách'),\n",
       " Document(page_content='Thời gian liên tục giữ vị trí sách bán chạy nhất theo\\nthống kê của New York Times:\\n10 năm\\nSố tựa sách dịch sang tiếng Tây Ban Nha\\ntrên thị trường Bắc Mỹ:\\n16 tựa sách\\nSách dành cho thanh thiếu niên:\\n12 tựa sách\\nSố lượng độc giả được truyền cảm hứng từ bộ sách:\\nKHÔNG THỂ ĐẾM ĐƯỢC'),\n",
       " Document(page_content='Introduction\\nThe marvel from Chicken Soup for\\nthe Soul!\\nIt is with great pleasure that we offer this book of “Condensed” Chicken\\nSoup for the Soul. We have taken the most popular stories from the series\\nof Chicken Soup for the Soul and condensed them into the essence of each\\nstory. Our intention is to provide you with a book that you can easily take\\nwith you - in a purse - and that can give you instant deep motivation and\\nfresh inspiration.\\nWhether you buy this book for yourself or as a gift for a friend and family\\nmember, rest assured that you have your hands on a book that will warm the\\nheart, awaken the soul and rekindle the spirit. These stories will touch you at\\nthe deepest level and remind you of what is most important about being\\nhuman.\\nRecent research indicates that when these stories are read, emotional and\\nspiritual responses are evoked that have positive health benefits.\\nNeurotransmitters are released in the brain to actually accelerate healing in\\nthe body and mind. The stories will inspire you to reach out to friends and\\nfamily with greater love and compassion, will comfort you in times of stress,\\nand will delight you during times of triumph and awake the new things. They\\nencourage you to enthusiastically embrace your dreams and more willingly\\ntackle the obstacles and challenges you will inevitably face in their\\nrealization.\\nWe continue to be excited about the consistent feedback we receive through\\nthe thousands of calls and letters outlining the significant impact our books\\nhave made on readers. we receive 50 to 100 letters a day from people all\\nover the world - Japan, Korea, the Philippines, Cuba, Germany, South Africa\\nand Israel - as well as the United States and Canada, with comments like\\nthese.\\n“I was sent to jail in a 23-hour lockdown unit. I was extremely in the crisis\\nof spirit and thought about suicide. As I was tearing up sheets, Condensed'),\n",
       " Document(page_content=\"Chicken Soup for the Soul caught my eye and I began to read. As I read, I\\nran across people in the book that had it much worse than me. It inspired me\\nto stay alive.”\\n- Pete, prison inmate\\n“I lost my dear husband of 46 years recently after more than 20 years living\\ntogether. The shock and loss were so terrible. My daughter in Las Vegas sent\\nme a copy of Condensed Chicken Soup for the Soul. This book has helped\\nme to no end!”\\n- D. E. Naylor, England\\n“Though I am only 22, these books have forever left an imprint in my heart.\\nSince I am learning and practicing the lessons taught in Condensed Chicken\\nSoup for the Soul, I feel that the stories can be of greater value to the\\nyounger readers. Condensed Chicken Soup for the Soul has taught me of\\nunconditional love, invaluable experience, death, dreams and goals,\\nmeanings and purposes of life, and many other things. I have learned to\\ncherish, nourish what I have and never to take what I am offered for granted,\\none of life’s most important lessons. I want to encourage anyone who has yet\\nto read these books to jump on it right now.”\\n-Heather, Long Island, New York\\nSo... sit back in silence, relax and enjoy the interesting journey you are about\\nto begin as you share in the lives and stories of some very special people.\\nIf after reading these stories, you are moved to send us some of your\\npersonal favorites -either your own or other people - we'll gladly review\\nthem for possible inclusion in future volumes of Chicken Soup for the\\nSoul.\\nJACK CANFIELD & MARK VICTOR HANSEN\"),\n",
       " Document(page_content='Lời giới thiệu\\nĐiều diệu kỳ từ Chicken Soup for\\nthe Soul!\\nChúng tôi trân trọng giới thiệu đến các bạn bộ sách nổi tiếng Condensed\\nChicken Soup for the Soul. Chúng tôi đã tuyển chọn và biên tập cô đọng\\nvới tất cả những gì tinh túy và ý nghĩa nhất những câu chuyện hay, xúc động\\nđược nhiều người yêu thích từ bộ sách Chicken Soup for the Soul. Mục\\nđích của chúng tôi là muốn dành cho các bạn một ấn phẩm nhỏ gọn để có thể\\nmang theo bên mình mọi lúc - trong túi xách, chẳng hạn - những câu chuyện\\ncó thể đem đến cho bạn sự động viên tinh thần sâu sắc và nguồn cảm hứng\\nmới mẻ.\\nDù bạn mua quyển sách này cho chính mình hay làm quà tặng cho bạn bè và\\nngười thân, thì hãy tin rằng, bạn đang có trong tay một tác phẩm có khả năng\\nsưởi ấm trái tim, thức tỉnh tâm hồn và làm phấn chấn tinh thần. Những câu\\nchuyện này sẽ chạm đến nơi sâu sắc nhất của tâm hồn bạn và nhắc nhở bạn\\nvề những điều quan trọng nhất của con người.\\nNghiên cứu khoa học gần đây cho thấy khi đọc những câu chuyện này, các\\nphản ứng tinh thần và cảm xúc được khơi dậy đã đem lại những ảnh hưởng\\ntích cực cho sức khỏe. Các chất dẫn truyền thần kinh được giải phóng trong\\nnão thật sự có tác dụng chữa lành các vết thương tinh thần và thể chất.\\nNhững câu chuyện này sẽ khơi dậy khát vọng trong bạn, thôi thúc bạn dang\\nrộng cánh tay chia sẻ đầy yêu thương với bạn bè và người thân, sẽ là niềm an\\nủi, xoa dịu những khi bạn căng thẳng tinh thần, sẽ làm bạn bừng sáng với\\nnhững thời khắc của sự vượt lên chính mình và thức tỉnh cảm nhận. Chúng\\nsẽ khuyến khích bạn kiên trì nuôi dưỡng và dám sống với ước mơ, sẵn sàng\\nvượt qua những khó khăn, thử thách mà bạn chắc chắn sẽ gặp phải trong\\nhành trình biến ước mơ thành hiện thực.\\nChúng tôi rất phấn khởi vì liên tục nhận được những phản hồi, qua hàng\\nngàn cuộc điện thoại và thư từ bạn đọc chia sẻ về những tác động lớn lao mà\\ncuốn sách đã đem lại cho độc giả. Mỗi ngày, chúng tôi nhận được khoảng từ\\n50 đến 100 lá thư của bạn đọc trên toàn thế giới - có những lá thư từ Nhật,\\nHàn Quốc, Philippines, Đức, Canada,... và cả những nơi xa xôi không ngờ'),\n",
       " Document(page_content='như Cuba, Nam Phi, Israel cũng như ngay trong lòng nước Mỹ. Sau đây là\\nmột số lời nhận xét về cuốn sách:\\n“Tôi phạm tội và bị đưa vào khu tù biệt giam. Tôi bị khủng hoảng tinh thần\\nvô cùng và chuẩn bị tự tử. Một người bạn gửi vào cho tôi một gói quà nhỏ.\\nKhi xé giấy bao ra, cuốn Condensed Chicken Soup for the Soul đã đập vào\\nmắt tôi, và tôi bắt đầu đọc. Qua các câu chuyện, tôi đã gặp những người có\\ncảnh ngộ còn tồi tệ hơn hoàn cảnh của mình nhiều. Thật sự, cuốn sách đã\\ncứu sống tôi!”\\n- Pete, một tù nhân\\n“Người chồng 46 tuổi thân yêu của tôi vừa qua đời sau hơn hai mươi năm\\nchúng tôi sống bên nhau. Đó là một cú sốc tinh thần và mất mát quá lớn đối\\nvới tôi. Con gái tôi ở Las Vegas đã gửi cho tôi cuốn Condensed Chicken\\nSoup for the Soul. Cuốn sách này đã giúp tôi nhiều vô kể.”\\n- D. E. Naylor, Anh Quốc\\n“Mặc dù tôi mới 22 tuổi, nhưng bộ sách này đã để lại ấn tượng sâu sắc\\ntrong tôi. Từ ngày nhận biết và làm theo những điều rút ra được từ cuốn\\nsách Condensed Chicken Soup for the Soul, tôi đã nhận ra rằng những câu\\nchuyện trong đó có giá trị cực kỳ lớn đối với các bạn trẻ. Condensed\\nChicken Soup for the Soul đã dạy tôi về một tình yêu vô điều kiện, sự trải\\nnghiệm vô giá, cách đối mặt với cái chết, cách dám sống với ước mơ và lý\\ntưởng, về ý nghĩa và mục đích cuộc sống, và rất nhiều điều khác nữa... Tôi\\nđã học được cách trân trọng và nuôi dưỡng những gì mình có và không níu\\nkéo những gì tôi đã trao tặng, một trong những bài học quan trọng nhất của\\ncuộc sống. Tôi chân thành khuyên những ai chưa đọc cuốn sách này nên đọc\\nnó ngay bây giờ.”\\n- Heather, Long Island, New York\\n“Thế nên... bạn hãy ngồi xuống trong yên tĩnh, thư giãn và thưởng thức\\nchuyến đi thú vị mà bạn sắp khởi hành khi bạn chia sẻ cuộc sống và câu\\nchuyện của những con người rất đặc biệt này.\\nNếu sau khi đọc cuốn sách này, bạn muốn gửi cho chúng tôi những cảm\\nnhận và ý tưởng mà mình tâm đắc nhất - hoặc của chính bạn hoặc từ những\\nngười xung quanh - chúng tôi sẽ rất vui được đón nhận và nếu thích hợp sẽ\\nchọn in trong những số tới của bộ Chicken Soup for the Soul.'),\n",
       " Document(page_content='JACK CANFIELD & MARK VICTOR HANSEN'),\n",
       " Document(page_content='On Love\\nTình yêu thương\\nLove\\nis the only force capable of\\ntransforming an enemy\\nintoa friend.\\n- Martin Luther\\nTình yêu thương\\nlà\\nsức mạnh duy nhất\\ncó thể\\nchuyển biến kẻ thù\\nthànhmột người bạn.\\n- Martin Luther'),\n",
       " Document(page_content='Love: The one creative force\\nA college professor had his sociology class go into the\\nBaltimore slums to get case histories of 200 young\\nboys. They were asked to write an evaluation of each\\nboy’s future. In every case the students wrote, “He\\nhasn’t got a chance.”\\nTwenty-five years later, another sociology professor came across the ealier\\nstudy. He had his students follow up on the project to see what had happened\\nto these boys. With the exception of 20 boys who had moved away or not\\ncontacted, the students learned that 176 of the remaining 180 had achieved\\nmore than ordinary success as lawyers, doctors and bussinessmen.\\nThe professor was astounded so he decided to pursue the matter further.\\nFortunately, all the men were in the area, and he was able to speak to each\\none. “How do you account for your success?” In each case the reply came\\nwith feeling: “There was a teacher.”\\nThe teacher was still alive, so he sought her out and asked the old but still\\nalert lady what magic formula she had used to pull these boys out of the\\nslums and into successful achievement.\\nThe teacher’s eyes sparkled and her lips broke into a gentle smile. “It’s really\\nvery simple,” she said. “I believed those boys.”\\n- Eric Butterworth\\nThis is where you will win the battle – in the playhouse of your\\nmind.\\n- Maxwell Maltz\\nSpread love everywhere you go: First of all in your own house.\\nGive love to your children, to your wife or husband, to a next-door\\nneighbor…'),\n",
       " Document(page_content='Let no one ever come to you without leaving better and happier.\\nBe the living expression of God’s kindness;kindness in your face, kindness\\nin your eyes, kindness in your smile,kindness in your warm greeting.\\n- Mother Teresa')]"
      ]
     },
     "execution_count": 27,
     "metadata": {},
     "output_type": "execute_result"
    }
   ],
   "source": [
    "texts"
   ]
  },
  {
   "attachments": {},
   "cell_type": "markdown",
   "id": "7bd36793-66bb-465b-b4c9-9daf68ef362a",
   "metadata": {},
   "source": [
    "## Vector store\n",
    "\n",
    "Use FAISS as vector store\n"
   ]
  },
  {
   "cell_type": "code",
   "execution_count": 28,
   "id": "fc961a62-08a1-4482-8eb2-f5cb45da08f4",
   "metadata": {},
   "outputs": [],
   "source": [
    "from langchain_pinecone import PineconeVectorStore\n",
    "\n",
    "embeddings= OpenAIEmbeddings(model='text-embedding-ada-002', openai_api_key=os.environ.get(\"OPENAI_API_KEY\"))\n",
    "vectorstore= FAISS.from_documents(texts, embeddings)\n",
    "vectorstore.save_local(\"book-summary-vectorstore\")"
   ]
  },
  {
   "cell_type": "markdown",
   "id": "d79498cd-a129-49d5-80e9-a85ba989afc8",
   "metadata": {},
   "source": [
    "## RAG"
   ]
  },
  {
   "cell_type": "code",
   "execution_count": 29,
   "id": "29d77a48-5605-4c69-90b7-6e43d7c23c66",
   "metadata": {},
   "outputs": [],
   "source": [
    "retrieval_qa_chat_prompt = hub.pull(\"langchain-ai/retrieval-qa-chat\")\n",
    "llm = ChatOpenAI(model='gpt-4o-mini')\n",
    "\n",
    "combine_docs_chain = create_stuff_documents_chain(llm, retrieval_qa_chat_prompt)\n",
    "retrieval_chain = create_retrieval_chain(retriever=vectorstore.as_retriever(), combine_docs_chain=combine_docs_chain)"
   ]
  },
  {
   "cell_type": "code",
   "execution_count": 30,
   "id": "58af8877-3b65-4402-b68b-bf80207d4f30",
   "metadata": {},
   "outputs": [
    {
     "data": {
      "text/plain": [
       "'Tác giả của cuốn sách \"Chicken Soup for the Soul\" là Jack Canfield và Mark Victor Hansen.'"
      ]
     },
     "execution_count": 30,
     "metadata": {},
     "output_type": "execute_result"
    }
   ],
   "source": [
    "@observe()\n",
    "def ask_bot(query):\n",
    "    result = retrieval_chain.invoke({\"input\": query})\n",
    "    return result['answer']\n",
    "\n",
    "ask_bot(\"tác giả của cuốn sách là ai?\")"
   ]
  },
  {
   "cell_type": "code",
   "execution_count": 31,
   "id": "8b483aa3-6ce9-440d-91d5-29ddab8406ad",
   "metadata": {},
   "outputs": [
    {
     "data": {
      "text/plain": [
       "'Xin lỗi, nhưng tôi không có thông tin cụ thể về nội dung của chương 1 từ văn bản mà bạn đã cung cấp. Nếu bạn cần biết về một chương cụ thể hoặc nội dung nào đó từ cuốn sách, bạn có thể tìm kiếm trong cuốn sách hoặc cung cấp thêm thông tin để tôi có thể hỗ trợ tốt hơn.'"
      ]
     },
     "execution_count": 31,
     "metadata": {},
     "output_type": "execute_result"
    }
   ],
   "source": [
    "ask_bot(\"nội dung của chương 1\")"
   ]
  },
  {
   "cell_type": "code",
   "execution_count": 32,
   "id": "6533aece-fac7-4090-80c7-78623beb0d6a",
   "metadata": {},
   "outputs": [
    {
     "data": {
      "text/plain": [
       "'Tác giả của \"Chicken Soup for the Soul\" là Jack Canfield và Mark Victor Hansen, cả hai đều là những diễn thuyết gia nổi tiếng với nhiều buổi nói chuyện về cuộc sống, sức mạnh tinh thần và phát triển nội tâm. Jack Canfield là người tốt nghiệp Đại học Harvard và có nhiều kinh nghiệm trong việc truyền cảm hứng cho người khác, trong khi Mark Victor Hansen đã thực hiện hàng nghìn buổi nói chuyện trên toàn thế giới.\\n\\nQuyển sách \"Chicken Soup for the Soul\" ra đời từ mong muốn của thính giả sau những buổi diễn thuyết, họ muốn lưu giữ những câu chuyện có thật và ý nghĩa mà Jack và Mark đã chia sẻ. Vào năm 1990, hai tác giả bắt đầu thực hiện ý tưởng này, nhưng quá trình biên tập và tổng hợp các câu chuyện gặp nhiều khó khăn. Sau 3 năm làm việc, họ chỉ thu thập được 68 câu chuyện và quyết định hợp tác với các nhà diễn thuyết khác để hoàn thiện bộ sách.\\n\\nCuối cùng, vào ngày 28/6/1993, quyển sách đầu tiên đã được xuất bản và nhanh chóng trở thành một hiện tượng trong ngành xuất bản. Nó đã tạo ra cơn sốt và được yêu thích rộng rãi, dẫn đến việc nhiều người quay lại mua thêm sách để làm quà tặng. \"Chicken Soup for the Soul\" đã được bình chọn là sách bán chạy nhất và nhận nhiều giải thưởng danh giá, trở thành một thương hiệu lớn với giá trị không chỉ về mặt thương mại mà còn về tính nhân văn.'"
      ]
     },
     "execution_count": 32,
     "metadata": {},
     "output_type": "execute_result"
    }
   ],
   "source": [
    "ask_bot(\"Về tác giả và sự ra đời của Chicken Soup for the Soul\")"
   ]
  },
  {
   "cell_type": "code",
   "execution_count": 33,
   "id": "c45089c7-5c5e-4c70-8b60-a01a139010b4",
   "metadata": {},
   "outputs": [
    {
     "name": "stdout",
     "output_type": "stream",
     "text": [
      "Số lượng sách đã bán là 85 triệu bản.\n"
     ]
    }
   ],
   "source": [
    "print(ask_bot(\"số lượng sách đã bán là bao nhiêu ? \"))"
   ]
  },
  {
   "cell_type": "code",
   "execution_count": 34,
   "id": "dfb0a88c-26da-4e17-9fce-960efc0d840d",
   "metadata": {},
   "outputs": [
    {
     "name": "stdout",
     "output_type": "stream",
     "text": [
      "Số tiền ủng hộ từ thiện từ bộ sách \"Chicken Soup for the Soul\" là hơn 8.5 tỉ đô la.\n"
     ]
    }
   ],
   "source": [
    "print(ask_bot(\"số tiền ủng hộ từ thiện \"))"
   ]
  },
  {
   "cell_type": "code",
   "execution_count": 35,
   "id": "ff392219-43f3-4564-ad5d-f4400ee74a47",
   "metadata": {},
   "outputs": [
    {
     "name": "stdout",
     "output_type": "stream",
     "text": [
      "Nội dung \"Love: The one creative force\" kể về một nghiên cứu xã hội học được thực hiện bởi một giáo sư đại học. Ông đã yêu cầu sinh viên của mình thực hiện các hồ sơ cá nhân của 200 cậu bé sống ở khu ổ chuột Baltimore và viết đánh giá về tương lai của từng cậu bé. Kết quả, tất cả sinh viên đều cho rằng những cậu bé này \"không có tương lai\".\n",
      "\n",
      "Hai mươi lăm năm sau, một giáo sư khác đã tìm thấy nghiên cứu này và yêu cầu sinh viên của mình theo dõi số phận của những cậu bé đó. Kết quả thật bất ngờ: trong số 180 cậu bé còn lại mà họ tìm được, có đến 176 người đã đạt được thành công vượt trội trong cuộc sống, trở thành luật sư, bác sĩ và doanh nhân.\n",
      "\n",
      "Khi được hỏi về bí quyết thành công của mình, tất cả những người đàn ông này đều trả lời rằng \"Có một người giáo viên.\" Khi tìm gặp người giáo viên ấy, bà đã chia sẻ rằng bí quyết của mình rất đơn giản: \"Tôi đã tin tưởng vào những cậu bé đó.\"\n",
      "\n",
      "Nội dung này nhấn mạnh sức mạnh của tình yêu thương và niềm tin, cho thấy rằng tình yêu và sự tin tưởng có thể biến đổi cuộc sống của con người, giúp họ vượt qua hoàn cảnh khó khăn và đạt được thành công.\n"
     ]
    }
   ],
   "source": [
    "print(ask_bot(\"trình bày về nội dung Love: The one creative force\"))"
   ]
  },
  {
   "cell_type": "code",
   "execution_count": 36,
   "id": "9bca6de6-7b92-48ff-8611-9762e4dbc9ca",
   "metadata": {},
   "outputs": [
    {
     "name": "stdout",
     "output_type": "stream",
     "text": [
      "Phần \"Love: The one creative force\" nhấn mạnh rằng tình yêu thương là sức mạnh duy nhất có khả năng biến đổi kẻ thù thành bạn bè. Đây là một ý tưởng được Martin Luther đề cập, cho thấy tầm quan trọng và sức mạnh của tình yêu trong việc xây dựng và thay đổi các mối quan hệ. Tình yêu không chỉ có thể hàn gắn những vết thương trong tâm hồn mà còn có thể mang lại sự thay đổi tích cực trong cuộc sống của con người.\n"
     ]
    }
   ],
   "source": [
    "print(ask_bot(\"tóm tắt nội dung phần Love: The one creative force\"))"
   ]
  },
  {
   "cell_type": "code",
   "execution_count": null,
   "id": "c94c20f9-f67a-4a8d-b91d-1cfc2706f23f",
   "metadata": {},
   "outputs": [],
   "source": []
  }
 ],
 "metadata": {
  "kernelspec": {
   "display_name": "Python 3 (ipykernel)",
   "language": "python",
   "name": "python3"
  },
  "language_info": {
   "codemirror_mode": {
    "name": "ipython",
    "version": 3
   },
   "file_extension": ".py",
   "mimetype": "text/x-python",
   "name": "python",
   "nbconvert_exporter": "python",
   "pygments_lexer": "ipython3",
   "version": "3.10.13"
  }
 },
 "nbformat": 4,
 "nbformat_minor": 5
}
