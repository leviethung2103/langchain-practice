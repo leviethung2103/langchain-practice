{
 "cells": [
  {
   "cell_type": "markdown",
   "metadata": {},
   "source": [
    "##  Function Calling with Mistral AI"
   ]
  },
  {
   "cell_type": "markdown",
   "metadata": {},
   "source": [
    "## Home Assitant \n",
    "\n",
    "Reference: \n",
    "1. https://github.com/jcRisch/flask-mistralai-assistant/tree/main\n",
    "2. https://medium.com/@jcrsch/mistral-ai-function-calling-a-simple-example-with-code-72f3a762550f\n",
    "\n",
    "## Introduction\n",
    "\n",
    "I can manage different devices (door, light, etc.) from different zones (outdoor, kitchen, bedroom, etc.). The goal of the demo is to enable the user to perform several actions:\n",
    "  \n",
    "- List the available zones\n",
    "- List the devices and their status in a zone\n",
    "- Change the status of a device in a zone\n",
    "\n",
    "database in JSON\n",
    "\n",
    "```json\n",
    "{\n",
    "    1: {'zone': 'kitchen', 'devices': {'light': True, 'door': False}},\n",
    "    2: {'zone': 'outdoor', 'devices': {'light': True, 'camera': True}},\n",
    "}\n",
    "```\n"
   ]
  },
  {
   "cell_type": "code",
   "execution_count": 3,
   "metadata": {},
   "outputs": [],
   "source": [
    "import json\n",
    "data = [{'zone': 'kitchen', 'devices': {'light': True, 'door': False}}, {'zone': 'outdoor', 'devices': {'light': True, 'camera': True}}]\n",
    "\n",
    "\n",
    "class IntentsList:\n",
    "    def list_available_zones(self) -> str:\n",
    "        \"\"\" Return all available zones in the database. \"\"\"\n",
    "        return json.dumps(data)\n",
    "\n",
    "    def list_device_status_by_zone(self,zone:str) -> str:\n",
    "        for item in data:\n",
    "            if item.get(\"zone\") == zone:\n",
    "                print(\"Device status in zone {}:\".format(zone))\n",
    "                return json.dumps(item['devices'])\n",
    "        \n",
    "        return \"Zone not found.\"\n",
    "    \n",
    "    def update_zone_device_status(self,zone:str, device:str, status: bool):\n",
    "        \"\"\" Not implemented yet.  Update the status of a device in a zone.  \"\"\"\n",
    "        for item in data:\n",
    "            if item.get(\"zone\") == zone:\n",
    "                item['devices'][device] = status\n",
    "                print(\"Update status of device {} in zone {} to {}\".format(device, zone, status))\n",
    "        return \"Zone not found.\"\n",
    "    \n",
    "  \n",
    "\n",
    "def list_device_status_by_zone_schema():\n",
    "    return {\n",
    "            \"type\": \"function\",\n",
    "            \"function\": {\n",
    "                \"name\": \"list_device_status_by_zone\",\n",
    "                \"description\": \"List the status of devices in a specific zone.\",\n",
    "                \"parameters\": {\n",
    "                    \"type\": \"object\",\n",
    "                    \"properties\": {\n",
    "                        \"zone\": {\"type\": \"string\", \"description\": \"The zone to list the device status for. Can be 'kitchen' or 'outdoor'.\"}\n",
    "                    },\n",
    "                    \"required\": [\"zone\"]\n",
    "                }\n",
    "            }\n",
    "            \n",
    "    }\n",
    "    \n",
    "\n",
    "def list_available_zones_schema():\n",
    "    return {\n",
    "        \"type\": \"function\",\n",
    "        \"function\": {\n",
    "            \"name\": \"list_available_zones\",\n",
    "            \"description\": \"List the available zones of the house.\",\n",
    "            \"parameters\": {\"type\": \"object\", \"properties\": {}},\n",
    "            \n",
    "        },\n",
    "    } \n",
    "\n",
    "    \n",
    "\n",
    "    \n",
    "def update_zone_device_status_schema():\n",
    "    return {\n",
    "        \"type\": \"function\",\n",
    "        \"function\": {\n",
    "            \"name\": \"update_zone_status\",\n",
    "            \"description\": \"Update the status of a device in a specific zone.\",\n",
    "            \"parameters\": {\n",
    "                \"type\": \"object\",\n",
    "                \"properties\": {\n",
    "                    \"zone\": {\n",
    "                        \"type\": \"string\",\n",
    "                        \"description\": \"The zone to update the status for. Can be 'kitchen' or 'outdoor'.\",\n",
    "                    },\n",
    "                    \"device\": {\n",
    "                        \"type\": \"string\",\n",
    "                        \"description\": \"The device to update the status for. Can be 'light', 'door', or 'camera'.\",\n",
    "                    },\n",
    "                },\n",
    "                \"required\": [\"zone\", \"device\"],\n",
    "            },\n",
    "        },\n",
    "    }\n",
    "    \n"
   ]
  },
  {
   "cell_type": "markdown",
   "metadata": {},
   "source": [
    "Run the assistant when a new user message is received\n",
    "When a user sends a message, the following steps must be taken:\n",
    "\n",
    "- Add the message to the list of messages (conversation)\n",
    "- Execute the LLM by adding the available functions\n",
    "- Add the LLM’s intermediate response to the message list\n",
    "- Execute the pending functions (according to the LLM’s intermediate response)\n",
    "- Add the functions’ responses to the list of messages\n",
    "- Execute the LLM and return the response to the user"
   ]
  },
  {
   "cell_type": "code",
   "execution_count": 8,
   "metadata": {},
   "outputs": [
    {
     "data": {
      "text/plain": [
       "<Response [200]>"
      ]
     },
     "execution_count": 8,
     "metadata": {},
     "output_type": "execute_result"
    }
   ],
   "source": [
    "import os \n",
    "import requests\n",
    "from dotenv import load_dotenv\n",
    "import json\n",
    "\n",
    "load_dotenv(override=True)\n",
    "\n",
    "\n",
    "MISTRAL_URL = \"https://api.mistral.ai/v1/chat/completions\"\n",
    "BEAR_TOKEN_API_KEY = os.getenv(\"BEAR_TOKEN_API_KEY\")\n",
    "\n",
    "content = \"What are the available zones?\"\n",
    "messages = [\n",
    "        {\"role\": \"system\", \"content\": \"You are a helpful assistant. Use functions if appropriate.\"},\n",
    "        {\"role\": \"user\", \"content\": content},\n",
    "]\n",
    "\n",
    "\n",
    "data = {\n",
    "    \"model\": \"mistral-small-latest\",\n",
    "    \"messages\": messages,\n",
    "    \"stream\": False,\n",
    "    \"max_tokens\": 128,\n",
    "    \"tools\": [list_available_zones_schema(), update_zone_device_status_schema(), list_device_status_by_zone_schema()],\n",
    "    \"tool_choice\": \"auto\"\n",
    "        \n",
    "}\n",
    "\n",
    "headers = {\"Content-type\": \"application/json\", \"Authorization\": f\"Bearer {BEAR_TOKEN_API_KEY}\"}\n",
    "\n",
    "response = requests.post(MISTRAL_URL, data=json.dumps(data), headers=headers, stream=False)\n",
    "response"
   ]
  },
  {
   "cell_type": "code",
   "execution_count": 27,
   "metadata": {},
   "outputs": [
    {
     "name": "stdout",
     "output_type": "stream",
     "text": [
      "list_available_zones {}\n",
      "<class 'str'> <class 'str'>\n"
     ]
    }
   ],
   "source": [
    "# convert the response to dictionary\n",
    "response_dict = json.loads(response.text)\n",
    "response_dict\n",
    "\n",
    "# # parse the tool\n",
    "if response_dict['choices'][0]['finish_reason'] == 'tool_calls':\n",
    "    # get the first tool\n",
    "    fn_name = response_dict['choices'][0]['message']['tool_calls'][0]['function']['name']\n",
    "    args = response_dict['choices'][0]['message']['tool_calls'][0]['function']['arguments']\n",
    "\n",
    "    \n",
    "    print(fn_name, args)\n",
    "    print(type(fn_name), type(args))"
   ]
  },
  {
   "cell_type": "code",
   "execution_count": 25,
   "metadata": {},
   "outputs": [
    {
     "data": {
      "text/plain": [
       "{'id': '2fe17c402e2b4e64b0036af1d6952c84',\n",
       " 'object': 'chat.completion',\n",
       " 'created': 1722701141,\n",
       " 'model': 'mistral-small-latest',\n",
       " 'choices': [{'index': 0,\n",
       "   'message': {'role': 'assistant',\n",
       "    'content': '',\n",
       "    'tool_calls': [{'id': 'JvWjUh6Jf',\n",
       "      'function': {'name': 'list_available_zones', 'arguments': '{}'}}]},\n",
       "   'finish_reason': 'tool_calls',\n",
       "   'logprobs': None}],\n",
       " 'usage': {'prompt_tokens': 293, 'total_tokens': 312, 'completion_tokens': 19}}"
      ]
     },
     "execution_count": 25,
     "metadata": {},
     "output_type": "execute_result"
    }
   ],
   "source": [
    "response_dict"
   ]
  },
  {
   "cell_type": "code",
   "execution_count": 23,
   "metadata": {},
   "outputs": [
    {
     "ename": "TypeError",
     "evalue": "'Response' object is not subscriptable",
     "output_type": "error",
     "traceback": [
      "\u001b[0;31m---------------------------------------------------------------------------\u001b[0m",
      "\u001b[0;31mTypeError\u001b[0m                                 Traceback (most recent call last)",
      "Cell \u001b[0;32mIn[23], line 1\u001b[0m\n\u001b[0;32m----> 1\u001b[0m \u001b[43mresponse\u001b[49m\u001b[43m[\u001b[49m\u001b[38;5;124;43m'\u001b[39;49m\u001b[38;5;124;43mchoices\u001b[39;49m\u001b[38;5;124;43m'\u001b[39;49m\u001b[43m]\u001b[49m[\u001b[38;5;241m0\u001b[39m]\n",
      "\u001b[0;31mTypeError\u001b[0m: 'Response' object is not subscriptable"
     ]
    }
   ],
   "source": [
    "response['choices']"
   ]
  },
  {
   "cell_type": "code",
   "execution_count": null,
   "metadata": {},
   "outputs": [
    {
     "data": {
      "text/plain": [
       "ChatCompletion(id='chatcmpl-9s54wWwqfss6JMu6lpKzL0HMIwzgQ', choices=[Choice(finish_reason='tool_calls', index=0, logprobs=None, message=ChatCompletionMessage(content=None, role='assistant', function_call=None, tool_calls=[ChatCompletionMessageToolCall(id='call_AVvmnJDua6q0lA9FYJoBqjLx', function=Function(arguments='{}', name='list_available_zones'), type='function')]))], created=1722676262, model='gpt-4o-mini-2024-07-18', object='chat.completion', service_tier=None, system_fingerprint='fp_0f03d4f0ee', usage=CompletionUsage(completion_tokens=12, prompt_tokens=176, total_tokens=188))"
      ]
     },
     "metadata": {},
     "output_type": "display_data"
    }
   ],
   "source": []
  },
  {
   "cell_type": "code",
   "execution_count": null,
   "metadata": {},
   "outputs": [
    {
     "data": {
      "text/plain": [
       "ChatCompletion(id='chatcmpl-9s54wWwqfss6JMu6lpKzL0HMIwzgQ', choices=[Choice(finish_reason='tool_calls', index=0, logprobs=None, message=ChatCompletionMessage(content=None, role='assistant', function_call=None, tool_calls=[ChatCompletionMessageToolCall(id='call_AVvmnJDua6q0lA9FYJoBqjLx', function=Function(arguments='{}', name='list_available_zones'), type='function')]))], created=1722676262, model='gpt-4o-mini-2024-07-18', object='chat.completion', service_tier=None, system_fingerprint='fp_0f03d4f0ee', usage=CompletionUsage(completion_tokens=12, prompt_tokens=176, total_tokens=188))"
      ]
     },
     "metadata": {},
     "output_type": "display_data"
    }
   ],
   "source": []
  },
  {
   "cell_type": "code",
   "execution_count": 50,
   "metadata": {},
   "outputs": [
    {
     "data": {
      "text/plain": [
       "ChatCompletion(id='chatcmpl-9s54wWwqfss6JMu6lpKzL0HMIwzgQ', choices=[Choice(finish_reason='tool_calls', index=0, logprobs=None, message=ChatCompletionMessage(content=None, role='assistant', function_call=None, tool_calls=[ChatCompletionMessageToolCall(id='call_AVvmnJDua6q0lA9FYJoBqjLx', function=Function(arguments='{}', name='list_available_zones'), type='function')]))], created=1722676262, model='gpt-4o-mini-2024-07-18', object='chat.completion', service_tier=None, system_fingerprint='fp_0f03d4f0ee', usage=CompletionUsage(completion_tokens=12, prompt_tokens=176, total_tokens=188))"
      ]
     },
     "execution_count": 50,
     "metadata": {},
     "output_type": "execute_result"
    }
   ],
   "source": [
    "import os \n",
    "from openai import OpenAI\n",
    "from dotenv import load_dotenv\n",
    "import requests\n",
    "\n",
    "MISTRAL_URL = \"https://api.mistral.ai/v1/chat/completions\"\n",
    "\n",
    "\n",
    "load_dotenv(override=True)\n",
    "\n",
    "# print(os.getenv('OPENAI_API_KEY'))\n",
    "\n",
    "client = OpenAI(api_key=os.getenv('OPENAI_API_KEY'))\n",
    "tools = [list_available_zones_schema(), list_device_status_by_zone_schema(), update_zone_device_status_schema()]\n",
    "\n",
    "content = 'What are the available zones?'\n",
    "# content = \"List device statuses in the kitchen zone?\"\n",
    "# content = \"Update status of the light in the kitchen\"\n",
    "\n",
    "messages = [\n",
    "        {\"role\": \"system\", \"content\": \"You are a helpful assistant. Use functions if appropriate.\"},\n",
    "        {\"role\": \"user\", \"content\": content},\n",
    "]\n",
    "\n",
    "response = client.chat.completions.create(\n",
    "    model=\"gpt-4o-mini\",\n",
    "    messages=messages,\n",
    "    tools=tools,\n",
    "    tool_choice='auto'\n",
    ")\n",
    "\n",
    "response\n"
   ]
  },
  {
   "cell_type": "code",
   "execution_count": 9,
   "metadata": {},
   "outputs": [
    {
     "ename": "AttributeError",
     "evalue": "'Response' object has no attribute 'to_dict'",
     "output_type": "error",
     "traceback": [
      "\u001b[0;31m---------------------------------------------------------------------------\u001b[0m",
      "\u001b[0;31mAttributeError\u001b[0m                            Traceback (most recent call last)",
      "Cell \u001b[0;32mIn[9], line 1\u001b[0m\n\u001b[0;32m----> 1\u001b[0m \u001b[43mresponse\u001b[49m\u001b[38;5;241;43m.\u001b[39;49m\u001b[43mto_dict\u001b[49m()\n",
      "\u001b[0;31mAttributeError\u001b[0m: 'Response' object has no attribute 'to_dict'"
     ]
    }
   ],
   "source": []
  },
  {
   "cell_type": "code",
   "execution_count": 51,
   "metadata": {},
   "outputs": [
    {
     "data": {
      "text/plain": [
       "ChatCompletion(id='chatcmpl-9s54wWwqfss6JMu6lpKzL0HMIwzgQ', choices=[Choice(finish_reason='tool_calls', index=0, logprobs=None, message=ChatCompletionMessage(content=None, role='assistant', function_call=None, tool_calls=[ChatCompletionMessageToolCall(id='call_AVvmnJDua6q0lA9FYJoBqjLx', function=Function(arguments='{}', name='list_available_zones'), type='function')]))], created=1722676262, model='gpt-4o-mini-2024-07-18', object='chat.completion', service_tier=None, system_fingerprint='fp_0f03d4f0ee', usage=CompletionUsage(completion_tokens=12, prompt_tokens=176, total_tokens=188))"
      ]
     },
     "execution_count": 51,
     "metadata": {},
     "output_type": "execute_result"
    }
   ],
   "source": [
    "response"
   ]
  },
  {
   "cell_type": "code",
   "execution_count": 52,
   "metadata": {},
   "outputs": [
    {
     "name": "stdout",
     "output_type": "stream",
     "text": [
      "Function name: list_available_zones\n",
      "Arguments: {}\n",
      "Final answer The available zones are:\n",
      "\n",
      "1. **Kitchen**\n",
      "   - Devices:\n",
      "     - Light: Available\n",
      "     - Door: Not Available\n",
      "\n",
      "2. **Outdoor**\n",
      "   - Devices:\n",
      "     - Light: Available\n",
      "     - Camera: Available\n"
     ]
    }
   ],
   "source": [
    "import json\n",
    "\n",
    "intents_list_obj = IntentsList()\n",
    "\n",
    "\n",
    "if response.choices[0].finish_reason == \"tool_calls\":\n",
    "    # ! Hard code 1st tool\n",
    "    function_name = response.choices[0].message.tool_calls[0].function.name\n",
    "    args = response.choices[0].message.tool_calls[0].function.arguments\n",
    "    tool_id = response.choices[0].message.tool_calls[0].id\n",
    "\n",
    "    print(\"Function name:\", function_name)\n",
    "    print(\"Arguments:\", args)\n",
    "\n",
    "    if hasattr(intents_list_obj, function_name):\n",
    "        function_to_call = getattr(intents_list_obj, function_name)\n",
    "        args_dict = json.loads(args)\n",
    "        output = function_to_call(**args_dict)\n",
    "        \n",
    "        messages.append(response.choices[0].message)\n",
    "        messages.append({\n",
    "            \"role\": \"tool\",\n",
    "            \"tool_call_id\": tool_id,\n",
    "            \"content\": output\n",
    "        })\n",
    "\n",
    "        # call llm again\n",
    "        response = client.chat.completions.create(\n",
    "            model=\"gpt-4o-mini\", messages=messages\n",
    "        )\n",
    "\n",
    "        print(\"Final answer\", response.choices[0].message.content)"
   ]
  }
 ],
 "metadata": {
  "kernelspec": {
   "display_name": "ai_travel",
   "language": "python",
   "name": "python3"
  },
  "language_info": {
   "codemirror_mode": {
    "name": "ipython",
    "version": 3
   },
   "file_extension": ".py",
   "mimetype": "text/x-python",
   "name": "python",
   "nbconvert_exporter": "python",
   "pygments_lexer": "ipython3",
   "version": "3.10.14"
  }
 },
 "nbformat": 4,
 "nbformat_minor": 2
}
