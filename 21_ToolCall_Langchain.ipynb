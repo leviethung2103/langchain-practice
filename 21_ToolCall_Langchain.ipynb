{
 "cells": [
  {
   "cell_type": "code",
   "execution_count": 1,
   "metadata": {},
   "outputs": [],
   "source": [
    "from langchain_openai import ChatOpenAI\n",
    "from langchain_core.tools import tool\n",
    "\n",
    "\n",
    "llm = ChatOpenAI(model=\"gpt-3.5-turbo-0125\")\n",
    "\n",
    "\n",
    "@tool\n",
    "def add(a: int, b: int) -> int:\n",
    "    \"\"\"Adds a and b.\n",
    "\n",
    "    Args:\n",
    "        a: first int\n",
    "        b: second int\n",
    "    \"\"\"\n",
    "    return a + b\n",
    "\n",
    "\n",
    "@tool\n",
    "def multiply(a: int, b: int) -> int:\n",
    "    \"\"\"Multiplies a and b.\n",
    "\n",
    "    Args:\n",
    "        a: first int\n",
    "        b: second int\n",
    "    \"\"\"\n",
    "    return a * b\n",
    "\n",
    "\n",
    "tools = [add, multiply]\n",
    "\n"
   ]
  },
  {
   "cell_type": "code",
   "execution_count": 2,
   "metadata": {},
   "outputs": [
    {
     "data": {
      "text/plain": [
       "[StructuredTool(name='add', description='Adds a and b.\\n\\n    Args:\\n        a: first int\\n        b: second int', args_schema=<class 'pydantic.v1.main.addSchema'>, func=<function add at 0x10bbdd240>),\n",
       " StructuredTool(name='multiply', description='Multiplies a and b.\\n\\n    Args:\\n        a: first int\\n        b: second int', args_schema=<class 'pydantic.v1.main.multiplySchema'>, func=<function multiply at 0x10bbdd2d0>)]"
      ]
     },
     "execution_count": 2,
     "metadata": {},
     "output_type": "execute_result"
    }
   ],
   "source": [
    "tools"
   ]
  },
  {
   "cell_type": "code",
   "execution_count": 3,
   "metadata": {},
   "outputs": [],
   "source": [
    "from langchain_core.pydantic_v1 import BaseModel, Field\n",
    "\n",
    "\n",
    "# Note that the docstrings here are crucial, as they will be passed along\n",
    "# to the model along with the class name.\n",
    "class add(BaseModel):\n",
    "    \"\"\"Add two integers together.\"\"\"\n",
    "\n",
    "    a: int = Field(..., description=\"First integer\")\n",
    "    b: int = Field(..., description=\"Second integer\")\n",
    "\n",
    "\n",
    "class multiply(BaseModel):\n",
    "    \"\"\"Multiply two integers together.\"\"\"\n",
    "\n",
    "    a: int = Field(..., description=\"First integer\")\n",
    "    b: int = Field(..., description=\"Second integer\")\n",
    "\n",
    "\n",
    "tools = [add, multiply]"
   ]
  },
  {
   "cell_type": "code",
   "execution_count": 4,
   "metadata": {},
   "outputs": [
    {
     "data": {
      "text/plain": [
       "[__main__.add, __main__.multiply]"
      ]
     },
     "execution_count": 4,
     "metadata": {},
     "output_type": "execute_result"
    }
   ],
   "source": [
    "tools"
   ]
  },
  {
   "cell_type": "code",
   "execution_count": 6,
   "metadata": {},
   "outputs": [],
   "source": [
    "llm_with_tools = llm.bind_tools(tools, tool_choice='auto')\n",
    "\n",
    "# Binding tool schemas\n",
    "\n"
   ]
  },
  {
   "cell_type": "code",
   "execution_count": 8,
   "metadata": {},
   "outputs": [
    {
     "data": {
      "text/plain": [
       "[{'name': 'multiply',\n",
       "  'args': {'a': 3, 'b': 12},\n",
       "  'id': 'call_6jOu2h5CpBIns158ZYzZ2seS',\n",
       "  'type': 'tool_call'},\n",
       " {'name': 'add',\n",
       "  'args': {'a': 11, 'b': 49},\n",
       "  'id': 'call_SV0mIK2xGXfWr3MxclsSzBVZ',\n",
       "  'type': 'tool_call'}]"
      ]
     },
     "execution_count": 8,
     "metadata": {},
     "output_type": "execute_result"
    }
   ],
   "source": [
    "query = \"What is 3 * 12? Also, what is 11 + 49?\"\n",
    "\n",
    "\n",
    "result = llm_with_tools.invoke(query).tool_calls\n",
    "result\n",
    "\n"
   ]
  },
  {
   "cell_type": "code",
   "execution_count": 9,
   "metadata": {},
   "outputs": [
    {
     "data": {
      "text/plain": [
       "list"
      ]
     },
     "execution_count": 9,
     "metadata": {},
     "output_type": "execute_result"
    }
   ],
   "source": [
    "type(result)"
   ]
  },
  {
   "cell_type": "code",
   "execution_count": 12,
   "metadata": {},
   "outputs": [
    {
     "data": {
      "text/plain": [
       "[{'name': 'multiply',\n",
       "  'args': {'a': 3, 'b': 20},\n",
       "  'id': 'call_gONDcLYq9hNmW3ztmdNgiAIv',\n",
       "  'type': 'tool_call'}]"
      ]
     },
     "execution_count": 12,
     "metadata": {},
     "output_type": "execute_result"
    }
   ],
   "source": [
    "query = \"What is 3*20\"\n",
    "\n",
    "\n",
    "result = llm_with_tools.invoke(query).tool_calls\n",
    "result"
   ]
  },
  {
   "cell_type": "code",
   "execution_count": 13,
   "metadata": {},
   "outputs": [
    {
     "data": {
      "text/plain": [
       "[multiply(a=3, b=20)]"
      ]
     },
     "execution_count": 13,
     "metadata": {},
     "output_type": "execute_result"
    }
   ],
   "source": [
    "from langchain_core.output_parsers.openai_tools import PydanticToolsParser\n",
    "from langchain.output_parsers.openai_tools import JsonOutputKeyToolsParser\n",
    "\n",
    "chain = llm_with_tools | PydanticToolsParser(tools=[multiply, add])\n",
    "chain.invoke(query)"
   ]
  },
  {
   "cell_type": "code",
   "execution_count": 14,
   "metadata": {},
   "outputs": [
    {
     "data": {
      "text/plain": [
       "[multiply(a=3, b=12), add(a=11, b=49)]"
      ]
     },
     "execution_count": 14,
     "metadata": {},
     "output_type": "execute_result"
    }
   ],
   "source": [
    "query = \"What is 3 * 12? Also, what is 11 + 49?\"\n",
    "result = chain.invoke(query)\n",
    "result\n"
   ]
  },
  {
   "cell_type": "code",
   "execution_count": 19,
   "metadata": {},
   "outputs": [
    {
     "data": {
      "text/plain": [
       "multiply(a=3, b=12)"
      ]
     },
     "execution_count": 19,
     "metadata": {},
     "output_type": "execute_result"
    }
   ],
   "source": [
    "result[0]."
   ]
  },
  {
   "cell_type": "code",
   "execution_count": 20,
   "metadata": {},
   "outputs": [
    {
     "ename": "ValidationError",
     "evalue": "1 validation error for JsonOutputKeyToolsParser\nkey_name\n  field required (type=value_error.missing)",
     "output_type": "error",
     "traceback": [
      "\u001b[0;31m---------------------------------------------------------------------------\u001b[0m",
      "\u001b[0;31mValidationError\u001b[0m                           Traceback (most recent call last)",
      "Cell \u001b[0;32mIn[20], line 7\u001b[0m\n\u001b[1;32m      1\u001b[0m \u001b[38;5;28;01mfrom\u001b[39;00m \u001b[38;5;21;01mlangchain_core\u001b[39;00m\u001b[38;5;21;01m.\u001b[39;00m\u001b[38;5;21;01moutput_parsers\u001b[39;00m\u001b[38;5;21;01m.\u001b[39;00m\u001b[38;5;21;01mopenai_tools\u001b[39;00m \u001b[38;5;28;01mimport\u001b[39;00m PydanticToolsParser\n\u001b[1;32m      2\u001b[0m \u001b[38;5;28;01mfrom\u001b[39;00m \u001b[38;5;21;01mlangchain\u001b[39;00m\u001b[38;5;21;01m.\u001b[39;00m\u001b[38;5;21;01moutput_parsers\u001b[39;00m\u001b[38;5;21;01m.\u001b[39;00m\u001b[38;5;21;01mopenai_tools\u001b[39;00m \u001b[38;5;28;01mimport\u001b[39;00m JsonOutputKeyToolsParser\n\u001b[0;32m----> 7\u001b[0m chain \u001b[38;5;241m=\u001b[39m llm_with_tools \u001b[38;5;241m|\u001b[39m \u001b[43mJsonOutputKeyToolsParser\u001b[49m\u001b[43m(\u001b[49m\u001b[43m)\u001b[49m\n\u001b[1;32m      8\u001b[0m chain\u001b[38;5;241m.\u001b[39minvoke(query)\n",
      "File \u001b[0;32m~/miniconda3/envs/ai_travel/lib/python3.10/site-packages/pydantic/v1/main.py:341\u001b[0m, in \u001b[0;36mBaseModel.__init__\u001b[0;34m(__pydantic_self__, **data)\u001b[0m\n\u001b[1;32m    339\u001b[0m values, fields_set, validation_error \u001b[38;5;241m=\u001b[39m validate_model(__pydantic_self__\u001b[38;5;241m.\u001b[39m\u001b[38;5;18m__class__\u001b[39m, data)\n\u001b[1;32m    340\u001b[0m \u001b[38;5;28;01mif\u001b[39;00m validation_error:\n\u001b[0;32m--> 341\u001b[0m     \u001b[38;5;28;01mraise\u001b[39;00m validation_error\n\u001b[1;32m    342\u001b[0m \u001b[38;5;28;01mtry\u001b[39;00m:\n\u001b[1;32m    343\u001b[0m     object_setattr(__pydantic_self__, \u001b[38;5;124m'\u001b[39m\u001b[38;5;124m__dict__\u001b[39m\u001b[38;5;124m'\u001b[39m, values)\n",
      "\u001b[0;31mValidationError\u001b[0m: 1 validation error for JsonOutputKeyToolsParser\nkey_name\n  field required (type=value_error.missing)"
     ]
    }
   ],
   "source": [
    "from langchain_core.output_parsers.openai_tools import PydanticToolsParser\n",
    "from langchain.output_parsers.openai_tools import JsonOutputKeyToolsParser\n",
    "\n",
    "\n",
    "\n",
    "\n",
    "chain = llm_with_tools | JsonOutputKeyToolsParser()\n",
    "chain.invoke(query)"
   ]
  },
  {
   "cell_type": "markdown",
   "metadata": {},
   "source": [
    "## One way to create the tool\n",
    "\n",
    "- Define the schema\n",
    "- Use the ChatPromptTemplate\n",
    "- Define 3 tools with their schemas\n",
    "- Select the tool_choice='auto' in the ChatOpenAI class"
   ]
  },
  {
   "cell_type": "code",
   "execution_count": 53,
   "metadata": {},
   "outputs": [],
   "source": [
    "from langchain_core.prompts import ChatPromptTemplate\n",
    "from langchain_core.pydantic_v1 import BaseModel, Field, validator\n",
    "from langchain_openai import ChatOpenAI\n",
    "from langchain.tools import StructuredTool\n",
    "from langchain_core.prompts import (\n",
    "    ChatPromptTemplate,\n",
    "    MessagesPlaceholder,\n",
    ")\n",
    "from langchain_core.utils.function_calling import convert_to_openai_function\n",
    "from langchain_core.runnables import RunnablePassthrough\n",
    "from pprint import pprint\n",
    "\n",
    "\n",
    "class ShowHotel(BaseModel):\n",
    "    route: list[str] = Field(..., description=\"list of locations to visit\")\n",
    "\n",
    "def get_list_hotels(route: list):\n",
    "    return True\n",
    "\n",
    "class ShowMap(BaseModel):\n",
    "    route: list[str] = Field(..., description=\"list of locations to visit\")\n",
    "    \n",
    "def get_map(route:list):\n",
    "    return True\n",
    "\n",
    "class ShowHotelDetails(BaseModel):\n",
    "    hotel_name: str = Field(..., description=\"a name of hotel\")\n",
    "    \n",
    "def get_hotel_detail(hotel_name:str):\n",
    "    return True\n",
    "\n",
    "# define tools from functions\n",
    "list_hotel_tool = StructuredTool.from_function(\n",
    "    func=get_list_hotels,\n",
    "    name=\"Get_List_Hotels\",\n",
    "    description=\"useful for when you need to show the list of hotels in a route\",\n",
    "    args_schema=ShowHotel,\n",
    "    return_direct=False\n",
    ")\n",
    "\n",
    "hotel_detail_tool = StructuredTool.from_function(\n",
    "    func=get_hotel_detail,\n",
    "    name=\"Get_Hotel_Details\",\n",
    "    description=\"useful for when you need to show the details of a hotel\",\n",
    "    args_schema=ShowHotelDetails,\n",
    "    return_direct=False\n",
    ")\n",
    "\n",
    "\n",
    "map_tool = StructuredTool.from_function(\n",
    "    func=get_map,\n",
    "    name=\"Get_Map\",\n",
    "    description=\"useful for when you need to show the map of a route\",\n",
    "    args_schema=ShowMap,\n",
    "    return_direct=False\n",
    ")\n",
    "\n",
    "\n",
    "tools = [list_hotel_tool, map_tool, hotel_detail_tool]\n",
    "\n",
    "# ! Demonstrate in the next section\n",
    "# messages placeholders \n",
    "# Prompt template that assumes variable is already list of messages.\n",
    "# A placeholder which can be used to pass in a list of messages.\n",
    "# use for the chat history\n",
    "\n",
    "# prompt = ChatPromptTemplate.from_messages(\n",
    "#     [\n",
    "#         (\n",
    "#             \"system\",\n",
    "#             \"You are a helpful assistant\",\n",
    "#         ),\n",
    "#         MessagesPlaceholder(variable_name=\"messages\", optional=True),\n",
    "#     ]\n",
    "# )\n",
    "\n",
    "prompt =  ChatPromptTemplate.from_messages(\n",
    "    [\n",
    "        (\n",
    "            \"system\",\n",
    "            \"You are a helpful assistant\",\n",
    "        ),\n",
    "        (\"human\", \"{question}\")\n",
    "    ]\n",
    ")\n",
    "\n",
    "llm = ChatOpenAI(model=\"gpt-3.5-turbo-1106\", temperature=0, streaming=True)\n",
    "\n",
    "\n",
    "# Create the tools to bind to the model\n",
    "tools = [convert_to_openai_function(t) for t in tools]\n",
    "\n",
    "# MODFIICATION: we're using bind_tools instead of bind_function\n",
    "# model = {\"messages\": RunnablePassthrough()} | prompt | llm.bind_tools(tools)\n",
    "model = prompt | llm.bind_tools(tools, tool_choice='auto')\n"
   ]
  },
  {
   "cell_type": "code",
   "execution_count": 54,
   "metadata": {},
   "outputs": [
    {
     "name": "stdout",
     "output_type": "stream",
     "text": [
      "content='' additional_kwargs={'tool_calls': [{'index': 0, 'id': 'call_CdH3FWs1eelB9xBDBqDqZXvq', 'function': {'arguments': '{\"route\": [\"Phú Quốc\", \"Bình Thuận\", \"Quảng Ninh\"]}', 'name': 'Get_Map'}, 'type': 'function'}]} response_metadata={'finish_reason': 'tool_calls', 'model_name': 'gpt-3.5-turbo-1106', 'system_fingerprint': 'fp_b591f37d7c'} id='run-e516f87b-cda1-4787-aee1-7b05bf35ec29-0' tool_calls=[{'name': 'Get_Map', 'args': {'route': ['Phú Quốc', 'Bình Thuận', 'Quảng Ninh']}, 'id': 'call_CdH3FWs1eelB9xBDBqDqZXvq', 'type': 'tool_call'}]\n",
      "[{'args': {'route': ['Phú Quốc', 'Bình Thuận', 'Quảng Ninh']},\n",
      "  'id': 'call_CdH3FWs1eelB9xBDBqDqZXvq',\n",
      "  'name': 'Get_Map',\n",
      "  'type': 'tool_call'}]\n"
     ]
    }
   ],
   "source": [
    "response = model.invoke({\"question\": \"show maps for route Phú Quốc - Bình Thuận - Quảng Ninh\"})\n",
    "print(response)\n",
    "pprint(response.tool_calls)"
   ]
  },
  {
   "cell_type": "code",
   "execution_count": 55,
   "metadata": {},
   "outputs": [
    {
     "name": "stdout",
     "output_type": "stream",
     "text": [
      "content='' additional_kwargs={'tool_calls': [{'index': 0, 'id': 'call_YnXDESroe7kROpBxp1rw4t1r', 'function': {'arguments': '{\"route\":[\"Phú Quốc\",\"Bình Thuận\",\"Quảng Ninh\"]}', 'name': 'Get_List_Hotels'}, 'type': 'function'}]} response_metadata={'finish_reason': 'tool_calls', 'model_name': 'gpt-3.5-turbo-1106', 'system_fingerprint': 'fp_b591f37d7c'} id='run-81807869-cb43-41c5-8e40-85c53064d4d1-0' tool_calls=[{'name': 'Get_List_Hotels', 'args': {'route': ['Phú Quốc', 'Bình Thuận', 'Quảng Ninh']}, 'id': 'call_YnXDESroe7kROpBxp1rw4t1r', 'type': 'tool_call'}]\n",
      "[{'args': {'route': ['Phú Quốc', 'Bình Thuận', 'Quảng Ninh']},\n",
      "  'id': 'call_YnXDESroe7kROpBxp1rw4t1r',\n",
      "  'name': 'Get_List_Hotels',\n",
      "  'type': 'tool_call'}]\n"
     ]
    }
   ],
   "source": [
    "response = model.invoke({\"question\": \"danh sách khách sạn  Phú Quốc - Bình Thuận - Quảng Ninh\"})\n",
    "print(response)\n",
    "pprint(response.tool_calls)"
   ]
  },
  {
   "cell_type": "code",
   "execution_count": 56,
   "metadata": {},
   "outputs": [
    {
     "name": "stdout",
     "output_type": "stream",
     "text": [
      "content='' additional_kwargs={'tool_calls': [{'index': 0, 'id': 'call_jqXWabNAwLrYe3yJn5j4xzlj', 'function': {'arguments': '{\"hotel_name\":\"Mường Thanh\"}', 'name': 'Get_Hotel_Details'}, 'type': 'function'}]} response_metadata={'finish_reason': 'tool_calls', 'model_name': 'gpt-3.5-turbo-1106', 'system_fingerprint': 'fp_b591f37d7c'} id='run-879b8d57-d9d4-49f1-a2bf-877a27b2a46f-0' tool_calls=[{'name': 'Get_Hotel_Details', 'args': {'hotel_name': 'Mường Thanh'}, 'id': 'call_jqXWabNAwLrYe3yJn5j4xzlj', 'type': 'tool_call'}]\n",
      "[{'args': {'hotel_name': 'Mường Thanh'},\n",
      "  'id': 'call_jqXWabNAwLrYe3yJn5j4xzlj',\n",
      "  'name': 'Get_Hotel_Details',\n",
      "  'type': 'tool_call'}]\n"
     ]
    }
   ],
   "source": [
    "response = model.invoke({\"question\": \"thông tin chi tiết khách sạn Mường Thanh\"})\n",
    "print(response)\n",
    "pprint(response.tool_calls)"
   ]
  },
  {
   "cell_type": "markdown",
   "metadata": {},
   "source": [
    "## Second way to create the tool\n",
    "\n",
    "Useful when receive the list of messages from user \n",
    "\n",
    "- Define the schema\n",
    "- Use the ChatPromptTemplate\n",
    "- Define 3 tools with their schemas\n",
    "- Select the tool_choice='auto' in the ChatOpenAI class\n",
    "- Use MessagePlaceHolder and PassThroughRunnable\n",
    "\n",
    "\n",
    "MessagePlaceHolder -> optional=True => Not error"
   ]
  },
  {
   "cell_type": "code",
   "execution_count": 6,
   "metadata": {},
   "outputs": [],
   "source": [
    "from langchain_core.prompts import ChatPromptTemplate\n",
    "from langchain_core.pydantic_v1 import BaseModel, Field, validator\n",
    "from langchain_openai import ChatOpenAI\n",
    "from langchain.tools import StructuredTool\n",
    "from langchain_core.prompts import (\n",
    "    ChatPromptTemplate,\n",
    "    MessagesPlaceholder,\n",
    ")\n",
    "from langchain_core.utils.function_calling import convert_to_openai_function\n",
    "from langchain_core.runnables import RunnablePassthrough\n",
    "from pprint import pprint\n",
    "\n",
    "\n",
    "class ShowHotel(BaseModel):\n",
    "    route: list[str] = Field(..., description=\"list of locations to visit\")\n",
    "\n",
    "def get_list_hotels(route: list):\n",
    "    return True\n",
    "\n",
    "class ShowMap(BaseModel):\n",
    "    route: list[str] = Field(..., description=\"list of locations to visit\")\n",
    "    \n",
    "def get_map(route:list):\n",
    "    return True\n",
    "\n",
    "class ShowHotelDetails(BaseModel):\n",
    "    hotel_name: str = Field(..., description=\"a name of hotel\")\n",
    "    \n",
    "def get_hotel_detail(hotel_name:str):\n",
    "    return True\n",
    "\n",
    "# define tools from functions\n",
    "list_hotel_tool = StructuredTool.from_function(\n",
    "    func=get_list_hotels,\n",
    "    name=\"Get_List_Hotels\",\n",
    "    description=\"useful for when you need to show the list of hotels in a route\",\n",
    "    args_schema=ShowHotel,\n",
    "    return_direct=False\n",
    ")\n",
    "\n",
    "hotel_detail_tool = StructuredTool.from_function(\n",
    "    func=get_hotel_detail,\n",
    "    name=\"Get_Hotel_Details\",\n",
    "    description=\"useful for when you need to show the details of a hotel\",\n",
    "    args_schema=ShowHotelDetails,\n",
    "    return_direct=False\n",
    ")\n",
    "\n",
    "\n",
    "map_tool = StructuredTool.from_function(\n",
    "    func=get_map,\n",
    "    name=\"Get_Map\",\n",
    "    description=\"useful for when you need to show the map of a route\",\n",
    "    args_schema=ShowMap,\n",
    "    return_direct=False\n",
    ")\n",
    "\n",
    "\n",
    "tools = [list_hotel_tool, map_tool, hotel_detail_tool]\n",
    "\n",
    "prompt = ChatPromptTemplate.from_messages(\n",
    "    [\n",
    "        (\n",
    "            \"system\",\n",
    "            \"You are a helpful assistant. You may not need to use tools for every query - the user may just want to chat!\",\n",
    "        ),\n",
    "        MessagesPlaceholder(variable_name=\"messages\", optional=True),\n",
    "        (\"human\", \"{question}\")  # This is where you would add the user's input\n",
    "    ]\n",
    ")\n",
    "\n",
    "llm = ChatOpenAI(model=\"gpt-3.5-turbo-1106\", temperature=0, streaming=True)\n",
    "\n",
    "\n",
    "# Create the tools to bind to the model\n",
    "tools = [convert_to_openai_function(t) for t in tools]\n",
    "\n",
    "# MODFIICATION: we're using bind_tools instead of bind_function\n",
    "# model = {\"messages\": RunnablePassthrough(), \"question\": \"Hello world\"} | prompt | llm.bind_tools(tools)\n",
    "\n",
    "# prompt.format_messages(messages=[(\"human\", \"show maps for route Phú Quốc - Bình Thu\")])\n",
    "model = prompt | llm.bind_tools(tools, tool_choice='auto')\n",
    "\n"
   ]
  },
  {
   "cell_type": "markdown",
   "metadata": {},
   "source": [
    "Model will response incorrectly, because it doesnot have the historical data"
   ]
  },
  {
   "cell_type": "code",
   "execution_count": 7,
   "metadata": {},
   "outputs": [
    {
     "name": "stdout",
     "output_type": "stream",
     "text": [
      "content='' additional_kwargs={'tool_calls': [{'index': 0, 'id': 'call_sCh4vD2JEyTnGa9LEVWYYNw3', 'function': {'arguments': '{\"route\":[\"Hanoi\",\"Hue\",\"Danang\",\"Nha Trang\",\"Ho Chi Minh City\"]}', 'name': 'Get_List_Hotels'}, 'type': 'function'}]} response_metadata={'finish_reason': 'tool_calls', 'model_name': 'gpt-3.5-turbo-1106', 'system_fingerprint': 'fp_b591f37d7c'} id='run-2b65d77a-abe0-47f6-b37d-497d40051c7f-0' tool_calls=[{'name': 'Get_List_Hotels', 'args': {'route': ['Hanoi', 'Hue', 'Danang', 'Nha Trang', 'Ho Chi Minh City']}, 'id': 'call_sCh4vD2JEyTnGa9LEVWYYNw3', 'type': 'tool_call'}]\n",
      "[{'args': {'route': ['Hanoi',\n",
      "                     'Hue',\n",
      "                     'Danang',\n",
      "                     'Nha Trang',\n",
      "                     'Ho Chi Minh City']},\n",
      "  'id': 'call_sCh4vD2JEyTnGa9LEVWYYNw3',\n",
      "  'name': 'Get_List_Hotels',\n",
      "  'type': 'tool_call'}]\n"
     ]
    }
   ],
   "source": [
    "response = model.invoke({\"question\": \"danh sách khách sạn của cả hành trình trên\"})\n",
    "print(response)\n",
    "pprint(response.tool_calls)"
   ]
  },
  {
   "cell_type": "markdown",
   "metadata": {},
   "source": [
    "Add the historical data -> Model will response correctly"
   ]
  },
  {
   "cell_type": "code",
   "execution_count": 8,
   "metadata": {},
   "outputs": [
    {
     "name": "stdout",
     "output_type": "stream",
     "text": [
      "content='' additional_kwargs={'tool_calls': [{'index': 0, 'id': 'call_PaXoP1LHF03gCjqMnLYL3sF6', 'function': {'arguments': '{\"route\":[\"Phu Quoc\",\"Binh Thuan\",\"Quang Ninh\"]}', 'name': 'Get_List_Hotels'}, 'type': 'function'}]} response_metadata={'finish_reason': 'tool_calls', 'model_name': 'gpt-3.5-turbo-1106', 'system_fingerprint': 'fp_b591f37d7c'} id='run-eb5ecfd9-a47f-4007-97a2-8b2487f901a7-0' tool_calls=[{'name': 'Get_List_Hotels', 'args': {'route': ['Phu Quoc', 'Binh Thuan', 'Quang Ninh']}, 'id': 'call_PaXoP1LHF03gCjqMnLYL3sF6', 'type': 'tool_call'}]\n",
      "[{'args': {'route': ['Phu Quoc', 'Binh Thuan', 'Quang Ninh']},\n",
      "  'id': 'call_PaXoP1LHF03gCjqMnLYL3sF6',\n",
      "  'name': 'Get_List_Hotels',\n",
      "  'type': 'tool_call'}]\n"
     ]
    }
   ],
   "source": [
    "response = model.invoke({\"messages\": [(\"human\", \"Tôi muốn chương trình du lịch Phú Quốc - Bình Thuận - Quảng Ninh trong 5 ngày/4 đêm, khách sạn 4 sao?\")], \"question\": \"danh sách khách sạn của cả hành trình\"})\n",
    "print(response)\n",
    "pprint(response.tool_calls)"
   ]
  },
  {
   "cell_type": "code",
   "execution_count": 18,
   "metadata": {},
   "outputs": [
    {
     "name": "stdout",
     "output_type": "stream",
     "text": [
      "b'data: {\"id\": \"644dc7d360bc472392e9f7863ebc7aba\", \"object\": \"chat.completion.chunk\", \"created\": 3283120793813, \"model\": \"mistral-medium-latest\", \"choices\": [{\"index\": 0, \"delta\": {\"tool_calls\": null}, \"finish_reason\": null, \"logprobs\": null}]}\\n\\n' \n",
      "b'data: {\"id\": \"644dc7d360bc472392e9f7863ebc7aba\", \"object\": \"chat.completion.chunk\", \"created\": 3283120793813, \"model\": \"mistral-medium-latest\", \"choices\": [{\"index\": 0, \"delta\": {\"tool_calls\": [{\"id\": \"7GWiYgE2d\", \"function\": {\"name\": \"showHotels\", \"arguments\": \"[\\'Ph\\\\u00fa Qu\\\\u1ed1c\\', \\'B\\\\u00ecnh Thu\\\\u1eadn\\', \\'Qu\\\\u1ea3ng Ninh\\']\"}}]}, \"finish_reason\": \"tool_calls\", \"logprobs\": null}]}\\n\\n' \n",
      "b'data: [DONE]\\n\\n' \n"
     ]
    }
   ],
   "source": [
    "import json\n",
    "import os\n",
    "import requests\n",
    "import ast\n",
    "import json\n",
    "from dotenv import load_dotenv\n",
    "\n",
    "load_dotenv()\n",
    "\n",
    "BEAR_TOKEN_API_KEY = os.getenv(\"BEAR_TOKEN_API_KEY\")\n",
    "\n",
    "DEBUG = True\n",
    "\n",
    "if DEBUG:\n",
    "    url = \"http://103.163.25.97:8002/v1/chat/completions\"\n",
    "else:\n",
    "    url = \"https://api.mistral.ai/v1/chat/completions\"\n",
    "\n",
    "\n",
    "data = {\n",
    "    \"model\": \"mistral-small-latest\",\n",
    "    \"messages\": [{\n",
    "        \"role\": \"user\",\n",
    "        \"content\": \"list all the status of devices in kitchen\"\n",
    "    }],\n",
    "    \"tools\": [{\n",
    "                \"type\": \"function\",\n",
    "                \"function\": {\n",
    "                    \"name\": \"list_device_status_by_zone\",\n",
    "                    \"description\": \"List the status of devices in a specific zone.\",\n",
    "                    \"parameters\": {\n",
    "                        \"type\": \"object\",\n",
    "                        \"properties\": {\n",
    "                            \"zone\": {\n",
    "                                \"type\": \"string\",\n",
    "                                \"description\": \"The zone to list the device status for. Can be 'kitchen' or 'outdoor'.\"\n",
    "                            }\n",
    "                        },\n",
    "                        \"required\": [\"zone\"]\n",
    "                    }\n",
    "                }\n",
    "            },\n",
    "            {\n",
    "                \"type\": \"function\",\n",
    "                \"function\": {\n",
    "                    \"name\": \"list_available_zones\",\n",
    "                    \"description\": \"List the available zones of the house.\",\n",
    "                    \"parameters\": {\n",
    "                        \"type\": \"object\",\n",
    "                        \"properties\": {}\n",
    "                    }\n",
    "                }\n",
    "            }],\n",
    "    \"tool_choice\": \"auto\",\n",
    "    \"stream\": True\n",
    "}\n",
    "\n",
    "headers = {\"Content-type\": \"application/json\", \"Authorization\": f\"Bearer {BEAR_TOKEN_API_KEY}\"}\n",
    "\n",
    "# print chunk\n",
    "# with requests.post(url, data=json.dumps(data), headers=headers, stream=True) as r:\n",
    "#     for chunk in r.iter_content(1024):\n",
    "#         print(chunk)\n",
    "#         print(\"\\n\\n\")\n",
    "\n",
    "# # write the streaming to terminal\n",
    "# with requests.post(url, data=json.dumps(data), headers=headers, stream=True) as r:\n",
    "#     for chunk in r.iter_content(1024):\n",
    "#         # print(chunk.decode().split(\"data: \")[1])\n",
    "#         response_dict = json.loads(chunk.decode().split(\"data: \")[1])\n",
    "#         content = response_dict[\"choices\"][0][\"delta\"][\"content\"]\n",
    "\n",
    "#         print(content, end=\"\")\n",
    "\n",
    "\n",
    "with requests.post(url, data=json.dumps(data), headers=headers, stream=True) as r:\n",
    "    for chunk in r.iter_content(1024):\n",
    "        print(chunk, \"\")\n"
   ]
  },
  {
   "cell_type": "markdown",
   "metadata": {},
   "source": []
  },
  {
   "cell_type": "code",
   "execution_count": 22,
   "metadata": {},
   "outputs": [
    {
     "name": "stdout",
     "output_type": "stream",
     "text": [
      "b'data: {\"id\": \"74d95cd40aa44baab81f533a66d18ade\", \"object\": \"chat.completion.chunk\", \"created\": 1722828204, \"model\": \"mistral-large-latest\", \"choices\": [{\"index\": 0, \"delta\": {\"content\": null, \"tool_calls\": [{\"id\": \"gJDV2w6fE\", \"function\": {\"name\": \"showHotels\", \"arguments\": \"{\\\\\"route\\\\\": [\\\\\"Hanoi\\\\\", \\\\\"Hue\\\\\", \\\\\"Da Nang\\\\\", \\\\\"Hoi An\\\\\", \\\\\"Nha Trang\\\\\", \\\\\"Ho Chi Minh\\\\\"]}\"}}]}, \"finish_reason\": \"tool_calls\", \"logprobs\": null}], \"usage\": {\"prompt_tokens\": 433, \"total_tokens\": 483, \"completion_tokens\": 50}}\\n\\ndata: [DONE]\\n\\n' \n"
     ]
    }
   ],
   "source": [
    "import json\n",
    "import os\n",
    "import requests\n",
    "import ast\n",
    "import json\n",
    "from dotenv import load_dotenv\n",
    "\n",
    "load_dotenv()\n",
    "\n",
    "BEAR_TOKEN_API_KEY = os.getenv(\"BEAR_TOKEN_API_KEY\")\n",
    "\n",
    "DEBUG = True\n",
    "\n",
    "if DEBUG:\n",
    "    url = \"http://103.163.25.97:8002/v1/chat/completions\"\n",
    "else:\n",
    "    url = \"https://api.mistral.ai/v1/chat/completions\"\n",
    "\n",
    "\n",
    "data = {\n",
    "    \"model\": \"mistral-small-latest\",\n",
    "    \"messages\": [{\n",
    "        \"role\": \"user\",\n",
    "        \"content\": \"list all the status of devices in kitchen\"\n",
    "    }],\n",
    "    \"tools\": [{\n",
    "                \"type\": \"function\",\n",
    "                \"function\": {\n",
    "                    \"name\": \"list_device_status_by_zone\",\n",
    "                    \"description\": \"List the status of devices in a specific zone.\",\n",
    "                    \"parameters\": {\n",
    "                        \"type\": \"object\",\n",
    "                        \"properties\": {\n",
    "                            \"zone\": {\n",
    "                                \"type\": \"string\",\n",
    "                                \"description\": \"The zone to list the device status for. Can be 'kitchen' or 'outdoor'.\"\n",
    "                            }\n",
    "                        },\n",
    "                        \"required\": [\"zone\"]\n",
    "                    }\n",
    "                }\n",
    "            },\n",
    "            {\n",
    "                \"type\": \"function\",\n",
    "                \"function\": {\n",
    "                    \"name\": \"list_available_zones\",\n",
    "                    \"description\": \"List the available zones of the house.\",\n",
    "                    \"parameters\": {\n",
    "                        \"type\": \"object\",\n",
    "                        \"properties\": {}\n",
    "                    }\n",
    "                }\n",
    "            }],\n",
    "    \"tool_choice\": \"auto\",\n",
    "    \"stream\": True\n",
    "}\n",
    "\n",
    "headers = {\"Content-type\": \"application/json\", \"Authorization\": f\"Bearer {BEAR_TOKEN_API_KEY}\"}\n",
    "\n",
    "# print chunk\n",
    "# with requests.post(url, data=json.dumps(data), headers=headers, stream=True) as r:\n",
    "#     for chunk in r.iter_content(1024):\n",
    "#         print(chunk)\n",
    "#         print(\"\\n\\n\")\n",
    "\n",
    "# # write the streaming to terminal\n",
    "# with requests.post(url, data=json.dumps(data), headers=headers, stream=True) as r:\n",
    "#     for chunk in r.iter_content(1024):\n",
    "#         # print(chunk.decode().split(\"data: \")[1])\n",
    "#         response_dict = json.loads(chunk.decode().split(\"data: \")[1])\n",
    "#         content = response_dict[\"choices\"][0][\"delta\"][\"content\"]\n",
    "\n",
    "#         print(content, end=\"\")\n",
    "\n",
    "\n",
    "with requests.post(url, data=json.dumps(data), headers=headers, stream=True) as r:\n",
    "    for chunk in r.iter_content(1024):\n",
    "        print(chunk, \"\")\n"
   ]
  },
  {
   "cell_type": "code",
   "execution_count": null,
   "metadata": {},
   "outputs": [],
   "source": []
  }
 ],
 "metadata": {
  "kernelspec": {
   "display_name": "ai_travel",
   "language": "python",
   "name": "python3"
  },
  "language_info": {
   "codemirror_mode": {
    "name": "ipython",
    "version": 3
   },
   "file_extension": ".py",
   "mimetype": "text/x-python",
   "name": "python",
   "nbconvert_exporter": "python",
   "pygments_lexer": "ipython3",
   "version": "3.10.14"
  }
 },
 "nbformat": 4,
 "nbformat_minor": 2
}
